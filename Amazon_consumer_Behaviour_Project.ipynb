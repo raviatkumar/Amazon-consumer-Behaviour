{
  "nbformat": 4,
  "nbformat_minor": 0,
  "metadata": {
    "colab": {
      "provenance": [],
      "gpuType": "T4",
      "authorship_tag": "ABX9TyPWkbhQZ2zgO1BwuyHJ2KI+"
    },
    "kernelspec": {
      "name": "python3",
      "display_name": "Python 3"
    },
    "language_info": {
      "name": "python"
    },
    "accelerator": "GPU"
  },
  "cells": [
    {
      "cell_type": "markdown",
      "source": [
        "# **Project Title : Amazon consumer Behaviour**"
      ],
      "metadata": {
        "id": "jC9AEYnevFMG"
      }
    },
    {
      "cell_type": "markdown",
      "source": [
        "##**Problem Statement:**\n",
        "\n",
        "Given the Amazon Consumer Behaviour Dataset, our goal is to analyze and understand the purchasing behavior and preferences of Amazon customers. By exploring various demographic and behavioral attributes, we aim to uncover insights that can help Amazon enhance its services, personalize recommendations, and improve the overall shopping experience for its customers."
      ],
      "metadata": {
        "id": "EFWIqHAJvnh2"
      }
    },
    {
      "cell_type": "markdown",
      "source": [
        "**Dataset Names:**\n",
        "\n",
        "1. **amazon_consumer_behaviour.csv**\n",
        "2. **age**: Age of the respondents\n",
        "3. **gender**: Gender of the respondents\n",
        "4. **purchase_frequency**: Frequency of purchases made on Amazon\n",
        "5. **purchase_categories**: Product categories typically purchased on Amazon\n",
        "6. **personalized_recommendation_frequency**: Frequency of purchases based on personalized recommendations\n",
        "7. **browsing_frequency**: Frequency of browsing Amazon's website or app\n",
        "8. **product_search_method**: Method used for searching products on Amazon\n",
        "9. **search_result_exploration**: Preference for exploring search results\n",
        "10. **customer_reviews_importance**: Importance of customer reviews in decision-making\n",
        "11. **add_to_cart_browsing**: Usage of \"Add to Cart\" feature while browsing\n",
        "12. **cart_completion_frequency**: Frequency of completing purchases after adding to cart\n",
        "13. **cart_abandonment_factors**: Factors influencing cart abandonment decisions\n",
        "14. **save_for_later_frequency**: Frequency of using the \"Save for Later\" feature\n",
        "15. **review_left**: Participation in leaving product reviews on Amazon\n",
        "16. **review_reliability**: Reliability of product reviews in decision-making\n",
        "17. **review_helpfulness**: Perceived helpfulness of customer reviews\n",
        "18. **personalized_recommendation_frequency**: Frequency of receiving personalized recommendations\n",
        "19. **recommendation_helpfulness**: Perceived helpfulness of personalized recommendations\n",
        "20. **rating_accuracy**: Rating of relevance and accuracy of recommendations\n",
        "21. **shopping_satisfaction**: Satisfaction level with the overall shopping experience\n",
        "22. **service_appreciation**: Aspects of Amazon's services appreciated the most\n",
        "23. **improvement_areas**: Areas where Amazon can improve according to respondents"
      ],
      "metadata": {
        "id": "tckO9yzwvqsR"
      }
    },
    {
      "cell_type": "code",
      "execution_count": 123,
      "metadata": {
        "id": "qUFUJQw_-rH6"
      },
      "outputs": [],
      "source": [
        "#import library\n",
        "import pandas as pd\n",
        "import numpy as np\n",
        "import matplotlib.pyplot as plt\n",
        "import seaborn as sns\n",
        "from sklearn.preprocessing import LabelEncoder\n",
        "from sklearn.model_selection import train_test_split\n",
        "from sklearn.preprocessing import MinMaxScaler\n",
        "from sklearn.linear_model import LogisticRegression\n",
        "from sklearn.svm import SVC\n",
        "from sklearn.ensemble import RandomForestClassifier, AdaBoostClassifier, GradientBoostingClassifier\n",
        "from sklearn.neighbors import KNeighborsClassifier\n",
        "from sklearn.metrics import accuracy_score\n",
        "from sklearn.model_selection import GridSearchCV\n",
        "from imblearn.over_sampling import SMOTE\n",
        "from sklearn.metrics import classification_report\n",
        "import warnings\n",
        "warnings.filterwarnings(\"ignore\")"
      ]
    },
    {
      "cell_type": "code",
      "source": [
        "from google.colab import drive\n",
        "drive.mount('/content/drive')"
      ],
      "metadata": {
        "colab": {
          "base_uri": "https://localhost:8080/"
        },
        "id": "92XHwrFa_8ea",
        "outputId": "a438f64d-45cd-4406-876a-f22139a1c70b"
      },
      "execution_count": 2,
      "outputs": [
        {
          "output_type": "stream",
          "name": "stdout",
          "text": [
            "Mounted at /content/drive\n"
          ]
        }
      ]
    },
    {
      "cell_type": "code",
      "source": [
        "df=pd.read_csv('/content/drive/MyDrive/Interview_question_solved/Machine learning /Machine Learning /Unsupervised learning/NLP and Topic Modelling/NLP Project/Dataset/Amazon Customer Behavior Survey.csv')"
      ],
      "metadata": {
        "id": "xG9MglhVCMbo"
      },
      "execution_count": 3,
      "outputs": []
    },
    {
      "cell_type": "code",
      "source": [
        "df.head()"
      ],
      "metadata": {
        "colab": {
          "base_uri": "https://localhost:8080/",
          "height": 516
        },
        "id": "6bmDrgWWC7Eq",
        "outputId": "452d9d59-2e77-46ce-ff9b-f691a5a44ed1"
      },
      "execution_count": 4,
      "outputs": [
        {
          "output_type": "execute_result",
          "data": {
            "text/plain": [
              "                        Timestamp  age             Gender  \\\n",
              "0  2023/06/04 1:28:19 PM GMT+5:30   23             Female   \n",
              "1  2023/06/04 2:30:44 PM GMT+5:30   23             Female   \n",
              "2  2023/06/04 5:04:56 PM GMT+5:30   24  Prefer not to say   \n",
              "3  2023/06/04 5:13:00 PM GMT+5:30   24             Female   \n",
              "4  2023/06/04 5:28:06 PM GMT+5:30   22             Female   \n",
              "\n",
              "       Purchase_Frequency                                Purchase_Categories  \\\n",
              "0       Few times a month                           Beauty and Personal Care   \n",
              "1            Once a month                               Clothing and Fashion   \n",
              "2       Few times a month    Groceries and Gourmet Food;Clothing and Fashion   \n",
              "3            Once a month  Beauty and Personal Care;Clothing and Fashion;...   \n",
              "4  Less than once a month      Beauty and Personal Care;Clothing and Fashion   \n",
              "\n",
              "  Personalized_Recommendation_Frequency Browsing_Frequency  \\\n",
              "0                                   Yes   Few times a week   \n",
              "1                                   Yes  Few times a month   \n",
              "2                                    No  Few times a month   \n",
              "3                             Sometimes  Few times a month   \n",
              "4                                   Yes  Few times a month   \n",
              "\n",
              "  Product_Search_Method Search_Result_Exploration  \\\n",
              "0               Keyword            Multiple pages   \n",
              "1               Keyword            Multiple pages   \n",
              "2               Keyword            Multiple pages   \n",
              "3               Keyword                First page   \n",
              "4                Filter            Multiple pages   \n",
              "\n",
              "   Customer_Reviews_Importance  ... Saveforlater_Frequency Review_Left  \\\n",
              "0                            1  ...              Sometimes         Yes   \n",
              "1                            1  ...                 Rarely          No   \n",
              "2                            2  ...                 Rarely          No   \n",
              "3                            5  ...              Sometimes         Yes   \n",
              "4                            1  ...                 Rarely          No   \n",
              "\n",
              "  Review_Reliability Review_Helpfulness  \\\n",
              "0       Occasionally                Yes   \n",
              "1            Heavily                Yes   \n",
              "2       Occasionally                 No   \n",
              "3            Heavily                Yes   \n",
              "4            Heavily                Yes   \n",
              "\n",
              "  Personalized_Recommendation_Frequency  Recommendation_Helpfulness  \\\n",
              "0                                      2                        Yes   \n",
              "1                                      2                  Sometimes   \n",
              "2                                      4                         No   \n",
              "3                                      3                  Sometimes   \n",
              "4                                      4                        Yes   \n",
              "\n",
              "  Rating_Accuracy   Shopping_Satisfaction    Service_Appreciation  \\\n",
              "0                1                      1      Competitive prices   \n",
              "1                3                      2  Wide product selection   \n",
              "2                3                      3      Competitive prices   \n",
              "3                3                      4      Competitive prices   \n",
              "4                2                      2      Competitive prices   \n",
              "\n",
              "              Improvement_Areas  \n",
              "0      Reducing packaging waste  \n",
              "1      Reducing packaging waste  \n",
              "2  Product quality and accuracy  \n",
              "3  Product quality and accuracy  \n",
              "4  Product quality and accuracy  \n",
              "\n",
              "[5 rows x 23 columns]"
            ],
            "text/html": [
              "\n",
              "  <div id=\"df-c6f8233c-e81b-4fca-be19-b4a8a23e8c91\" class=\"colab-df-container\">\n",
              "    <div>\n",
              "<style scoped>\n",
              "    .dataframe tbody tr th:only-of-type {\n",
              "        vertical-align: middle;\n",
              "    }\n",
              "\n",
              "    .dataframe tbody tr th {\n",
              "        vertical-align: top;\n",
              "    }\n",
              "\n",
              "    .dataframe thead th {\n",
              "        text-align: right;\n",
              "    }\n",
              "</style>\n",
              "<table border=\"1\" class=\"dataframe\">\n",
              "  <thead>\n",
              "    <tr style=\"text-align: right;\">\n",
              "      <th></th>\n",
              "      <th>Timestamp</th>\n",
              "      <th>age</th>\n",
              "      <th>Gender</th>\n",
              "      <th>Purchase_Frequency</th>\n",
              "      <th>Purchase_Categories</th>\n",
              "      <th>Personalized_Recommendation_Frequency</th>\n",
              "      <th>Browsing_Frequency</th>\n",
              "      <th>Product_Search_Method</th>\n",
              "      <th>Search_Result_Exploration</th>\n",
              "      <th>Customer_Reviews_Importance</th>\n",
              "      <th>...</th>\n",
              "      <th>Saveforlater_Frequency</th>\n",
              "      <th>Review_Left</th>\n",
              "      <th>Review_Reliability</th>\n",
              "      <th>Review_Helpfulness</th>\n",
              "      <th>Personalized_Recommendation_Frequency</th>\n",
              "      <th>Recommendation_Helpfulness</th>\n",
              "      <th>Rating_Accuracy</th>\n",
              "      <th>Shopping_Satisfaction</th>\n",
              "      <th>Service_Appreciation</th>\n",
              "      <th>Improvement_Areas</th>\n",
              "    </tr>\n",
              "  </thead>\n",
              "  <tbody>\n",
              "    <tr>\n",
              "      <th>0</th>\n",
              "      <td>2023/06/04 1:28:19 PM GMT+5:30</td>\n",
              "      <td>23</td>\n",
              "      <td>Female</td>\n",
              "      <td>Few times a month</td>\n",
              "      <td>Beauty and Personal Care</td>\n",
              "      <td>Yes</td>\n",
              "      <td>Few times a week</td>\n",
              "      <td>Keyword</td>\n",
              "      <td>Multiple pages</td>\n",
              "      <td>1</td>\n",
              "      <td>...</td>\n",
              "      <td>Sometimes</td>\n",
              "      <td>Yes</td>\n",
              "      <td>Occasionally</td>\n",
              "      <td>Yes</td>\n",
              "      <td>2</td>\n",
              "      <td>Yes</td>\n",
              "      <td>1</td>\n",
              "      <td>1</td>\n",
              "      <td>Competitive prices</td>\n",
              "      <td>Reducing packaging waste</td>\n",
              "    </tr>\n",
              "    <tr>\n",
              "      <th>1</th>\n",
              "      <td>2023/06/04 2:30:44 PM GMT+5:30</td>\n",
              "      <td>23</td>\n",
              "      <td>Female</td>\n",
              "      <td>Once a month</td>\n",
              "      <td>Clothing and Fashion</td>\n",
              "      <td>Yes</td>\n",
              "      <td>Few times a month</td>\n",
              "      <td>Keyword</td>\n",
              "      <td>Multiple pages</td>\n",
              "      <td>1</td>\n",
              "      <td>...</td>\n",
              "      <td>Rarely</td>\n",
              "      <td>No</td>\n",
              "      <td>Heavily</td>\n",
              "      <td>Yes</td>\n",
              "      <td>2</td>\n",
              "      <td>Sometimes</td>\n",
              "      <td>3</td>\n",
              "      <td>2</td>\n",
              "      <td>Wide product selection</td>\n",
              "      <td>Reducing packaging waste</td>\n",
              "    </tr>\n",
              "    <tr>\n",
              "      <th>2</th>\n",
              "      <td>2023/06/04 5:04:56 PM GMT+5:30</td>\n",
              "      <td>24</td>\n",
              "      <td>Prefer not to say</td>\n",
              "      <td>Few times a month</td>\n",
              "      <td>Groceries and Gourmet Food;Clothing and Fashion</td>\n",
              "      <td>No</td>\n",
              "      <td>Few times a month</td>\n",
              "      <td>Keyword</td>\n",
              "      <td>Multiple pages</td>\n",
              "      <td>2</td>\n",
              "      <td>...</td>\n",
              "      <td>Rarely</td>\n",
              "      <td>No</td>\n",
              "      <td>Occasionally</td>\n",
              "      <td>No</td>\n",
              "      <td>4</td>\n",
              "      <td>No</td>\n",
              "      <td>3</td>\n",
              "      <td>3</td>\n",
              "      <td>Competitive prices</td>\n",
              "      <td>Product quality and accuracy</td>\n",
              "    </tr>\n",
              "    <tr>\n",
              "      <th>3</th>\n",
              "      <td>2023/06/04 5:13:00 PM GMT+5:30</td>\n",
              "      <td>24</td>\n",
              "      <td>Female</td>\n",
              "      <td>Once a month</td>\n",
              "      <td>Beauty and Personal Care;Clothing and Fashion;...</td>\n",
              "      <td>Sometimes</td>\n",
              "      <td>Few times a month</td>\n",
              "      <td>Keyword</td>\n",
              "      <td>First page</td>\n",
              "      <td>5</td>\n",
              "      <td>...</td>\n",
              "      <td>Sometimes</td>\n",
              "      <td>Yes</td>\n",
              "      <td>Heavily</td>\n",
              "      <td>Yes</td>\n",
              "      <td>3</td>\n",
              "      <td>Sometimes</td>\n",
              "      <td>3</td>\n",
              "      <td>4</td>\n",
              "      <td>Competitive prices</td>\n",
              "      <td>Product quality and accuracy</td>\n",
              "    </tr>\n",
              "    <tr>\n",
              "      <th>4</th>\n",
              "      <td>2023/06/04 5:28:06 PM GMT+5:30</td>\n",
              "      <td>22</td>\n",
              "      <td>Female</td>\n",
              "      <td>Less than once a month</td>\n",
              "      <td>Beauty and Personal Care;Clothing and Fashion</td>\n",
              "      <td>Yes</td>\n",
              "      <td>Few times a month</td>\n",
              "      <td>Filter</td>\n",
              "      <td>Multiple pages</td>\n",
              "      <td>1</td>\n",
              "      <td>...</td>\n",
              "      <td>Rarely</td>\n",
              "      <td>No</td>\n",
              "      <td>Heavily</td>\n",
              "      <td>Yes</td>\n",
              "      <td>4</td>\n",
              "      <td>Yes</td>\n",
              "      <td>2</td>\n",
              "      <td>2</td>\n",
              "      <td>Competitive prices</td>\n",
              "      <td>Product quality and accuracy</td>\n",
              "    </tr>\n",
              "  </tbody>\n",
              "</table>\n",
              "<p>5 rows × 23 columns</p>\n",
              "</div>\n",
              "    <div class=\"colab-df-buttons\">\n",
              "\n",
              "  <div class=\"colab-df-container\">\n",
              "    <button class=\"colab-df-convert\" onclick=\"convertToInteractive('df-c6f8233c-e81b-4fca-be19-b4a8a23e8c91')\"\n",
              "            title=\"Convert this dataframe to an interactive table.\"\n",
              "            style=\"display:none;\">\n",
              "\n",
              "  <svg xmlns=\"http://www.w3.org/2000/svg\" height=\"24px\" viewBox=\"0 -960 960 960\">\n",
              "    <path d=\"M120-120v-720h720v720H120Zm60-500h600v-160H180v160Zm220 220h160v-160H400v160Zm0 220h160v-160H400v160ZM180-400h160v-160H180v160Zm440 0h160v-160H620v160ZM180-180h160v-160H180v160Zm440 0h160v-160H620v160Z\"/>\n",
              "  </svg>\n",
              "    </button>\n",
              "\n",
              "  <style>\n",
              "    .colab-df-container {\n",
              "      display:flex;\n",
              "      gap: 12px;\n",
              "    }\n",
              "\n",
              "    .colab-df-convert {\n",
              "      background-color: #E8F0FE;\n",
              "      border: none;\n",
              "      border-radius: 50%;\n",
              "      cursor: pointer;\n",
              "      display: none;\n",
              "      fill: #1967D2;\n",
              "      height: 32px;\n",
              "      padding: 0 0 0 0;\n",
              "      width: 32px;\n",
              "    }\n",
              "\n",
              "    .colab-df-convert:hover {\n",
              "      background-color: #E2EBFA;\n",
              "      box-shadow: 0px 1px 2px rgba(60, 64, 67, 0.3), 0px 1px 3px 1px rgba(60, 64, 67, 0.15);\n",
              "      fill: #174EA6;\n",
              "    }\n",
              "\n",
              "    .colab-df-buttons div {\n",
              "      margin-bottom: 4px;\n",
              "    }\n",
              "\n",
              "    [theme=dark] .colab-df-convert {\n",
              "      background-color: #3B4455;\n",
              "      fill: #D2E3FC;\n",
              "    }\n",
              "\n",
              "    [theme=dark] .colab-df-convert:hover {\n",
              "      background-color: #434B5C;\n",
              "      box-shadow: 0px 1px 3px 1px rgba(0, 0, 0, 0.15);\n",
              "      filter: drop-shadow(0px 1px 2px rgba(0, 0, 0, 0.3));\n",
              "      fill: #FFFFFF;\n",
              "    }\n",
              "  </style>\n",
              "\n",
              "    <script>\n",
              "      const buttonEl =\n",
              "        document.querySelector('#df-c6f8233c-e81b-4fca-be19-b4a8a23e8c91 button.colab-df-convert');\n",
              "      buttonEl.style.display =\n",
              "        google.colab.kernel.accessAllowed ? 'block' : 'none';\n",
              "\n",
              "      async function convertToInteractive(key) {\n",
              "        const element = document.querySelector('#df-c6f8233c-e81b-4fca-be19-b4a8a23e8c91');\n",
              "        const dataTable =\n",
              "          await google.colab.kernel.invokeFunction('convertToInteractive',\n",
              "                                                    [key], {});\n",
              "        if (!dataTable) return;\n",
              "\n",
              "        const docLinkHtml = 'Like what you see? Visit the ' +\n",
              "          '<a target=\"_blank\" href=https://colab.research.google.com/notebooks/data_table.ipynb>data table notebook</a>'\n",
              "          + ' to learn more about interactive tables.';\n",
              "        element.innerHTML = '';\n",
              "        dataTable['output_type'] = 'display_data';\n",
              "        await google.colab.output.renderOutput(dataTable, element);\n",
              "        const docLink = document.createElement('div');\n",
              "        docLink.innerHTML = docLinkHtml;\n",
              "        element.appendChild(docLink);\n",
              "      }\n",
              "    </script>\n",
              "  </div>\n",
              "\n",
              "\n",
              "<div id=\"df-e9621d99-9f06-424e-94f4-24bc2b301840\">\n",
              "  <button class=\"colab-df-quickchart\" onclick=\"quickchart('df-e9621d99-9f06-424e-94f4-24bc2b301840')\"\n",
              "            title=\"Suggest charts\"\n",
              "            style=\"display:none;\">\n",
              "\n",
              "<svg xmlns=\"http://www.w3.org/2000/svg\" height=\"24px\"viewBox=\"0 0 24 24\"\n",
              "     width=\"24px\">\n",
              "    <g>\n",
              "        <path d=\"M19 3H5c-1.1 0-2 .9-2 2v14c0 1.1.9 2 2 2h14c1.1 0 2-.9 2-2V5c0-1.1-.9-2-2-2zM9 17H7v-7h2v7zm4 0h-2V7h2v10zm4 0h-2v-4h2v4z\"/>\n",
              "    </g>\n",
              "</svg>\n",
              "  </button>\n",
              "\n",
              "<style>\n",
              "  .colab-df-quickchart {\n",
              "      --bg-color: #E8F0FE;\n",
              "      --fill-color: #1967D2;\n",
              "      --hover-bg-color: #E2EBFA;\n",
              "      --hover-fill-color: #174EA6;\n",
              "      --disabled-fill-color: #AAA;\n",
              "      --disabled-bg-color: #DDD;\n",
              "  }\n",
              "\n",
              "  [theme=dark] .colab-df-quickchart {\n",
              "      --bg-color: #3B4455;\n",
              "      --fill-color: #D2E3FC;\n",
              "      --hover-bg-color: #434B5C;\n",
              "      --hover-fill-color: #FFFFFF;\n",
              "      --disabled-bg-color: #3B4455;\n",
              "      --disabled-fill-color: #666;\n",
              "  }\n",
              "\n",
              "  .colab-df-quickchart {\n",
              "    background-color: var(--bg-color);\n",
              "    border: none;\n",
              "    border-radius: 50%;\n",
              "    cursor: pointer;\n",
              "    display: none;\n",
              "    fill: var(--fill-color);\n",
              "    height: 32px;\n",
              "    padding: 0;\n",
              "    width: 32px;\n",
              "  }\n",
              "\n",
              "  .colab-df-quickchart:hover {\n",
              "    background-color: var(--hover-bg-color);\n",
              "    box-shadow: 0 1px 2px rgba(60, 64, 67, 0.3), 0 1px 3px 1px rgba(60, 64, 67, 0.15);\n",
              "    fill: var(--button-hover-fill-color);\n",
              "  }\n",
              "\n",
              "  .colab-df-quickchart-complete:disabled,\n",
              "  .colab-df-quickchart-complete:disabled:hover {\n",
              "    background-color: var(--disabled-bg-color);\n",
              "    fill: var(--disabled-fill-color);\n",
              "    box-shadow: none;\n",
              "  }\n",
              "\n",
              "  .colab-df-spinner {\n",
              "    border: 2px solid var(--fill-color);\n",
              "    border-color: transparent;\n",
              "    border-bottom-color: var(--fill-color);\n",
              "    animation:\n",
              "      spin 1s steps(1) infinite;\n",
              "  }\n",
              "\n",
              "  @keyframes spin {\n",
              "    0% {\n",
              "      border-color: transparent;\n",
              "      border-bottom-color: var(--fill-color);\n",
              "      border-left-color: var(--fill-color);\n",
              "    }\n",
              "    20% {\n",
              "      border-color: transparent;\n",
              "      border-left-color: var(--fill-color);\n",
              "      border-top-color: var(--fill-color);\n",
              "    }\n",
              "    30% {\n",
              "      border-color: transparent;\n",
              "      border-left-color: var(--fill-color);\n",
              "      border-top-color: var(--fill-color);\n",
              "      border-right-color: var(--fill-color);\n",
              "    }\n",
              "    40% {\n",
              "      border-color: transparent;\n",
              "      border-right-color: var(--fill-color);\n",
              "      border-top-color: var(--fill-color);\n",
              "    }\n",
              "    60% {\n",
              "      border-color: transparent;\n",
              "      border-right-color: var(--fill-color);\n",
              "    }\n",
              "    80% {\n",
              "      border-color: transparent;\n",
              "      border-right-color: var(--fill-color);\n",
              "      border-bottom-color: var(--fill-color);\n",
              "    }\n",
              "    90% {\n",
              "      border-color: transparent;\n",
              "      border-bottom-color: var(--fill-color);\n",
              "    }\n",
              "  }\n",
              "</style>\n",
              "\n",
              "  <script>\n",
              "    async function quickchart(key) {\n",
              "      const quickchartButtonEl =\n",
              "        document.querySelector('#' + key + ' button');\n",
              "      quickchartButtonEl.disabled = true;  // To prevent multiple clicks.\n",
              "      quickchartButtonEl.classList.add('colab-df-spinner');\n",
              "      try {\n",
              "        const charts = await google.colab.kernel.invokeFunction(\n",
              "            'suggestCharts', [key], {});\n",
              "      } catch (error) {\n",
              "        console.error('Error during call to suggestCharts:', error);\n",
              "      }\n",
              "      quickchartButtonEl.classList.remove('colab-df-spinner');\n",
              "      quickchartButtonEl.classList.add('colab-df-quickchart-complete');\n",
              "    }\n",
              "    (() => {\n",
              "      let quickchartButtonEl =\n",
              "        document.querySelector('#df-e9621d99-9f06-424e-94f4-24bc2b301840 button');\n",
              "      quickchartButtonEl.style.display =\n",
              "        google.colab.kernel.accessAllowed ? 'block' : 'none';\n",
              "    })();\n",
              "  </script>\n",
              "</div>\n",
              "\n",
              "    </div>\n",
              "  </div>\n"
            ],
            "application/vnd.google.colaboratory.intrinsic+json": {
              "type": "dataframe",
              "variable_name": "df"
            }
          },
          "metadata": {},
          "execution_count": 4
        }
      ]
    },
    {
      "cell_type": "code",
      "source": [
        "df.info()"
      ],
      "metadata": {
        "colab": {
          "base_uri": "https://localhost:8080/"
        },
        "id": "26954dZrYUT4",
        "outputId": "e34d098e-244c-43c8-f22b-e0ea85246833"
      },
      "execution_count": 6,
      "outputs": [
        {
          "output_type": "stream",
          "name": "stdout",
          "text": [
            "<class 'pandas.core.frame.DataFrame'>\n",
            "RangeIndex: 602 entries, 0 to 601\n",
            "Data columns (total 23 columns):\n",
            " #   Column                                  Non-Null Count  Dtype \n",
            "---  ------                                  --------------  ----- \n",
            " 0   Timestamp                               602 non-null    object\n",
            " 1   age                                     602 non-null    int64 \n",
            " 2   Gender                                  602 non-null    object\n",
            " 3   Purchase_Frequency                      602 non-null    object\n",
            " 4   Purchase_Categories                     602 non-null    object\n",
            " 5   Personalized_Recommendation_Frequency   602 non-null    object\n",
            " 6   Browsing_Frequency                      602 non-null    object\n",
            " 7   Product_Search_Method                   600 non-null    object\n",
            " 8   Search_Result_Exploration               602 non-null    object\n",
            " 9   Customer_Reviews_Importance             602 non-null    int64 \n",
            " 10  Add_to_Cart_Browsing                    602 non-null    object\n",
            " 11  Cart_Completion_Frequency               602 non-null    object\n",
            " 12  Cart_Abandonment_Factors                602 non-null    object\n",
            " 13  Saveforlater_Frequency                  602 non-null    object\n",
            " 14  Review_Left                             602 non-null    object\n",
            " 15  Review_Reliability                      602 non-null    object\n",
            " 16  Review_Helpfulness                      602 non-null    object\n",
            " 17  Personalized_Recommendation_Frequency   602 non-null    int64 \n",
            " 18  Recommendation_Helpfulness              602 non-null    object\n",
            " 19  Rating_Accuracy                         602 non-null    int64 \n",
            " 20  Shopping_Satisfaction                   602 non-null    int64 \n",
            " 21  Service_Appreciation                    602 non-null    object\n",
            " 22  Improvement_Areas                       602 non-null    object\n",
            "dtypes: int64(5), object(18)\n",
            "memory usage: 108.3+ KB\n"
          ]
        }
      ]
    },
    {
      "cell_type": "markdown",
      "source": [
        "###**EDA**"
      ],
      "metadata": {
        "id": "-1Kf3gPwr1i4"
      }
    },
    {
      "cell_type": "code",
      "source": [
        "# Swarm plot\n",
        "plt.figure(figsize=(10, 8))\n",
        "sns.swarmplot(x='Gender', y='age', data=df)\n",
        "plt.show()"
      ],
      "metadata": {
        "colab": {
          "base_uri": "https://localhost:8080/",
          "height": 700
        },
        "id": "tlyZJkTkYUcx",
        "outputId": "92245b95-dfbd-4600-d264-75de7cdd2d8d"
      },
      "execution_count": 7,
      "outputs": [
        {
          "output_type": "display_data",
          "data": {
            "text/plain": [
              "<Figure size 1000x800 with 1 Axes>"
            ],
            "image/png": "[encoded data removed]"
          },
          "metadata": {}
        }
      ]
    },
    {
      "cell_type": "code",
      "source": [
        "# Line plot\n",
        "plt.figure(figsize=(10, 8))\n",
        "sns.lineplot(x='age', y='Shopping_Satisfaction', data=df)\n",
        "plt.show()"
      ],
      "metadata": {
        "colab": {
          "base_uri": "https://localhost:8080/",
          "height": 696
        },
        "id": "MBB9tR9NYUf8",
        "outputId": "1efdc581-9f0f-43ad-d4d6-3a714f306a8a"
      },
      "execution_count": 8,
      "outputs": [
        {
          "output_type": "display_data",
          "data": {
            "text/plain": [
              "<Figure size 1000x800 with 1 Axes>"
            ],
            "image/png": "[encoded data removed]"
          },
          "metadata": {}
        }
      ]
    },
    {
      "cell_type": "code",
      "source": [
        "# Bar plot\n",
        "plt.figure(figsize=(10, 8))\n",
        "sns.barplot(x='Gender', y='Shopping_Satisfaction', data=df)\n",
        "plt.show()"
      ],
      "metadata": {
        "colab": {
          "base_uri": "https://localhost:8080/",
          "height": 696
        },
        "id": "MmttvTYYYUjl",
        "outputId": "d6c344b7-ddd4-46b1-aa83-1063827acd5b"
      },
      "execution_count": 9,
      "outputs": [
        {
          "output_type": "display_data",
          "data": {
            "text/plain": [
              "<Figure size 1000x800 with 1 Axes>"
            ],
            "image/png": "[encoded data removed]"
          },
          "metadata": {}
        }
      ]
    },
    {
      "cell_type": "code",
      "source": [
        "# Count plot\n",
        "plt.figure(figsize=(10, 8))\n",
        "sns.countplot(x='Purchase_Frequency', hue='Gender', data=df)\n",
        "plt.show()"
      ],
      "metadata": {
        "colab": {
          "base_uri": "https://localhost:8080/",
          "height": 696
        },
        "id": "mUtKBRy-YU4g",
        "outputId": "cc1f3c09-8504-4fb6-acc4-bb9299bf5da6"
      },
      "execution_count": 10,
      "outputs": [
        {
          "output_type": "display_data",
          "data": {
            "text/plain": [
              "<Figure size 1000x800 with 1 Axes>"
            ],
            "image/png": "[encoded data removed]"
          },
          "metadata": {}
        }
      ]
    },
    {
      "cell_type": "code",
      "source": [
        "# Swarm plot\n",
        "plt.figure(figsize=(10, 8))\n",
        "sns.swarmplot(x='Purchase_Frequency', y='Service_Appreciation', data=df)\n",
        "plt.show()"
      ],
      "metadata": {
        "colab": {
          "base_uri": "https://localhost:8080/",
          "height": 696
        },
        "id": "5BOZ55H9YU8c",
        "outputId": "6df72e0a-5b27-4176-d084-55553c3e0b7f"
      },
      "execution_count": 11,
      "outputs": [
        {
          "output_type": "display_data",
          "data": {
            "text/plain": [
              "<Figure size 1000x800 with 1 Axes>"
            ],
            "image/png": "[encoded data removed]"
          },
          "metadata": {}
        }
      ]
    },
    {
      "cell_type": "code",
      "source": [
        "# Count plot\n",
        "plt.figure(figsize=(10, 8))\n",
        "sns.countplot(x='Review_Helpfulness', hue='Gender', data=df)\n",
        "plt.show()"
      ],
      "metadata": {
        "colab": {
          "base_uri": "https://localhost:8080/",
          "height": 696
        },
        "id": "bBaN0MJpYVJn",
        "outputId": "7019ce10-2ddc-4a7d-af87-5e5ccffc8e3e"
      },
      "execution_count": 12,
      "outputs": [
        {
          "output_type": "display_data",
          "data": {
            "text/plain": [
              "<Figure size 1000x800 with 1 Axes>"
            ],
            "image/png": "[encoded data removed]"
          },
          "metadata": {}
        }
      ]
    },
    {
      "cell_type": "code",
      "source": [
        "# Swarm plot\n",
        "plt.figure(figsize=(10, 8))\n",
        "sns.swarmplot(x='Cart_Abandonment_Factors', y='age', data=df)\n",
        "plt.xticks(rotation=45)\n",
        "plt.show()"
      ],
      "metadata": {
        "colab": {
          "base_uri": "https://localhost:8080/",
          "height": 921
        },
        "id": "4PsTOWgWYVNp",
        "outputId": "51750dbc-cd97-4298-9c69-fdd5f61313c2"
      },
      "execution_count": 13,
      "outputs": [
        {
          "output_type": "display_data",
          "data": {
            "text/plain": [
              "<Figure size 1000x800 with 1 Axes>"
            ],
            "image/png": "[encoded data removed]"
          },
          "metadata": {}
        }
      ]
    },
    {
      "cell_type": "code",
      "source": [
        "# Line plot\n",
        "plt.figure(figsize=(10, 8))\n",
        "sns.lineplot(x='Purchase_Frequency', y='Shopping_Satisfaction', data=df)\n",
        "plt.show()"
      ],
      "metadata": {
        "colab": {
          "base_uri": "https://localhost:8080/",
          "height": 696
        },
        "id": "cqPxNwAxYVfJ",
        "outputId": "2a791447-ce08-4ca4-a9b6-3c4b0154389a"
      },
      "execution_count": 14,
      "outputs": [
        {
          "output_type": "display_data",
          "data": {
            "text/plain": [
              "<Figure size 1000x800 with 1 Axes>"
            ],
            "image/png": "[encoded data removed]"
          },
          "metadata": {}
        }
      ]
    },
    {
      "cell_type": "code",
      "source": [
        "# Bar plot\n",
        "plt.figure(figsize=(10, 8))\n",
        "sns.barplot(x='Personalized_Recommendation_Frequency', y='Shopping_Satisfaction', data=df)\n",
        "plt.show()"
      ],
      "metadata": {
        "colab": {
          "base_uri": "https://localhost:8080/",
          "height": 696
        },
        "id": "vBplgTVaYVih",
        "outputId": "4df5b221-c5f5-41ce-ed3c-1e6766bc1aab"
      },
      "execution_count": 15,
      "outputs": [
        {
          "output_type": "display_data",
          "data": {
            "text/plain": [
              "<Figure size 1000x800 with 1 Axes>"
            ],
            "image/png": "[encoded data removed]"
          },
          "metadata": {}
        }
      ]
    },
    {
      "cell_type": "code",
      "source": [
        "# Line plot\n",
        "plt.figure(figsize=(10, 8))\n",
        "sns.lineplot(x='Search_Result_Exploration', y='Shopping_Satisfaction', data=df)\n",
        "plt.show()"
      ],
      "metadata": {
        "colab": {
          "base_uri": "https://localhost:8080/",
          "height": 696
        },
        "id": "r2syVW5lYV15",
        "outputId": "984fad7c-7195-4d19-ff44-9f708b7492f8"
      },
      "execution_count": 18,
      "outputs": [
        {
          "output_type": "display_data",
          "data": {
            "text/plain": [
              "<Figure size 1000x800 with 1 Axes>"
            ],
            "image/png": "[encoded data removed]"
          },
          "metadata": {}
        }
      ]
    },
    {
      "cell_type": "code",
      "source": [
        "# Split categories where there are multiple categories separated by ';'\n",
        "categories = df['Purchase_Frequency'].str.split(';', expand=True).stack()\n",
        "\n",
        "# Reset the index of categories to convert MultiIndex to flat Index\n",
        "categories = categories.reset_index(level=1, drop=True)\n",
        "\n",
        "# Combine the categories with the corresponding gender\n",
        "category_gender = pd.concat([categories, df['Gender'].loc[categories.index]], axis=1)\n",
        "category_gender.columns = ['Category', 'Gender']\n",
        "\n",
        "# Get value counts of each category by gender\n",
        "category_counts_by_gender = category_gender.groupby(['Category', 'Gender']).size().unstack()\n",
        "\n",
        "# Plot the distribution of categories by gender\n",
        "plt.figure(figsize=(12, 6))\n",
        "category_counts_by_gender.plot(kind='bar', stacked=True, ax=plt.gca())\n",
        "\n",
        "# Move the legend to the bottom right of the plot\n",
        "plt.legend(title='Gender', loc='best')\n",
        "plt.title('Distribution of Purchase Frequency by Gender')\n",
        "plt.xlabel('Category')\n",
        "plt.ylabel('Count')\n",
        "plt.xticks(rotation=45, ha='right')\n",
        "plt.tight_layout()\n",
        "plt.show()"
      ],
      "metadata": {
        "colab": {
          "base_uri": "https://localhost:8080/",
          "height": 607
        },
        "id": "SNQu5QclLWpY",
        "outputId": "a961ad48-2d4d-4dbb-a304-dc702970e218"
      },
      "execution_count": 19,
      "outputs": [
        {
          "output_type": "display_data",
          "data": {
            "text/plain": [
              "<Figure size 1200x600 with 1 Axes>"
            ],
            "image/png": "[encoded data removed]"
          },
          "metadata": {}
        }
      ]
    },
    {
      "cell_type": "code",
      "source": [
        "df.isnull().sum()"
      ],
      "metadata": {
        "colab": {
          "base_uri": "https://localhost:8080/"
        },
        "id": "GeIRxFUAFNdj",
        "outputId": "0645d84e-7d1b-42e2-dc98-0f421f9244d1"
      },
      "execution_count": 20,
      "outputs": [
        {
          "output_type": "execute_result",
          "data": {
            "text/plain": [
              "Timestamp                                 0\n",
              "age                                       0\n",
              "Gender                                    0\n",
              "Purchase_Frequency                        0\n",
              "Purchase_Categories                       0\n",
              "Personalized_Recommendation_Frequency     0\n",
              "Browsing_Frequency                        0\n",
              "Product_Search_Method                     2\n",
              "Search_Result_Exploration                 0\n",
              "Customer_Reviews_Importance               0\n",
              "Add_to_Cart_Browsing                      0\n",
              "Cart_Completion_Frequency                 0\n",
              "Cart_Abandonment_Factors                  0\n",
              "Saveforlater_Frequency                    0\n",
              "Review_Left                               0\n",
              "Review_Reliability                        0\n",
              "Review_Helpfulness                        0\n",
              "Personalized_Recommendation_Frequency     0\n",
              "Recommendation_Helpfulness                0\n",
              "Rating_Accuracy                           0\n",
              "Shopping_Satisfaction                     0\n",
              "Service_Appreciation                      0\n",
              "Improvement_Areas                         0\n",
              "dtype: int64"
            ]
          },
          "metadata": {},
          "execution_count": 20
        }
      ]
    },
    {
      "cell_type": "code",
      "source": [
        "df.dropna(subset=['Product_Search_Method'], inplace=True)"
      ],
      "metadata": {
        "id": "9XfjEN5-FTYU"
      },
      "execution_count": 21,
      "outputs": []
    },
    {
      "cell_type": "code",
      "source": [
        "df.shape"
      ],
      "metadata": {
        "colab": {
          "base_uri": "https://localhost:8080/"
        },
        "id": "uIjuwL9oF2TS",
        "outputId": "2e8d05d0-49a5-45fd-e5e3-da4f3c13e5b1"
      },
      "execution_count": 22,
      "outputs": [
        {
          "output_type": "execute_result",
          "data": {
            "text/plain": [
              "(600, 23)"
            ]
          },
          "metadata": {},
          "execution_count": 22
        }
      ]
    },
    {
      "cell_type": "code",
      "source": [
        "print(len(df[df.duplicated()]))"
      ],
      "metadata": {
        "colab": {
          "base_uri": "https://localhost:8080/"
        },
        "id": "oLT7MjywF4My",
        "outputId": "68881ce0-a4f5-45e0-cc03-abad5008534c"
      },
      "execution_count": 23,
      "outputs": [
        {
          "output_type": "stream",
          "name": "stdout",
          "text": [
            "0\n"
          ]
        }
      ]
    },
    {
      "cell_type": "code",
      "source": [
        "df = df.drop(['Timestamp'], axis=1)"
      ],
      "metadata": {
        "id": "1IZfR4G2G4JA"
      },
      "execution_count": 26,
      "outputs": []
    },
    {
      "cell_type": "markdown",
      "source": [
        "###**Onehot Encoding**"
      ],
      "metadata": {
        "id": "o1LsCwGcxtkx"
      }
    },
    {
      "cell_type": "markdown",
      "source": [
        "###**Label Encoder**"
      ],
      "metadata": {
        "id": "XU1CGYc_WW9k"
      }
    },
    {
      "cell_type": "markdown",
      "source": [
        "#####**Improvement_Areas**"
      ],
      "metadata": {
        "id": "s2_dyQQcWQ0j"
      }
    },
    {
      "cell_type": "code",
      "source": [
        "df['Improvement_Areas'].value_counts()"
      ],
      "metadata": {
        "colab": {
          "base_uri": "https://localhost:8080/"
        },
        "id": "gT_tYuJzHw2N",
        "outputId": "15d47d34-1a0a-4a58-dbff-20a6f56f16ca"
      },
      "execution_count": 27,
      "outputs": [
        {
          "output_type": "execute_result",
          "data": {
            "text/plain": [
              "Improvement_Areas\n",
              "Customer service responsiveness                                                   216\n",
              "Product quality and accuracy                                                      159\n",
              "Reducing packaging waste                                                          133\n",
              "Shipping speed and reliability                                                     78\n",
              "Quality of product is very poor according to the big offers                         1\n",
              "I don't have any problem with Amazon                                                1\n",
              "User interface of app                                                               1\n",
              "Irrelevant product suggestions                                                      1\n",
              "User interface                                                                      1\n",
              "I have no problem with Amazon yet. But others tell me about the refund issues       1\n",
              "UI                                                                                  1\n",
              "Scrolling option would be much better than going to next page                       1\n",
              "Add more familiar brands to the list                                                1\n",
              "Nil                                                                                 1\n",
              "better app interface and lower shipping charges                                     1\n",
              "Nothing                                                                             1\n",
              ".                                                                                   1\n",
              "No problems with Amazon                                                             1\n",
              "Name: count, dtype: int64"
            ]
          },
          "metadata": {},
          "execution_count": 27
        }
      ]
    },
    {
      "cell_type": "markdown",
      "source": [
        "#####**Gender**"
      ],
      "metadata": {
        "id": "ErB2NPprWeLq"
      }
    },
    {
      "cell_type": "code",
      "source": [
        "df['Gender'].value_counts()"
      ],
      "metadata": {
        "colab": {
          "base_uri": "https://localhost:8080/"
        },
        "id": "1UogqMyYNddS",
        "outputId": "fc170199-8eea-4197-fdcb-1ed4d3ee5b33"
      },
      "execution_count": 28,
      "outputs": [
        {
          "output_type": "execute_result",
          "data": {
            "text/plain": [
              "Gender\n",
              "Female               350\n",
              "Male                 142\n",
              "Prefer not to say     89\n",
              "Others                19\n",
              "Name: count, dtype: int64"
            ]
          },
          "metadata": {},
          "execution_count": 28
        }
      ]
    },
    {
      "cell_type": "code",
      "source": [
        "df = pd.get_dummies(df, columns=['Gender'], prefix='Gender', dtype=int)"
      ],
      "metadata": {
        "id": "I82NahQDH5FP"
      },
      "execution_count": 29,
      "outputs": []
    },
    {
      "cell_type": "markdown",
      "source": [
        "#####**Purchase_Frequency**"
      ],
      "metadata": {
        "id": "UWK9SS74WhIy"
      }
    },
    {
      "cell_type": "code",
      "source": [
        "df['Purchase_Frequency'].value_counts()"
      ],
      "metadata": {
        "colab": {
          "base_uri": "https://localhost:8080/"
        },
        "id": "qiabbg4tNkkf",
        "outputId": "f3023741-81a1-4bdb-faae-6dad87f2ccae"
      },
      "execution_count": 30,
      "outputs": [
        {
          "output_type": "execute_result",
          "data": {
            "text/plain": [
              "Purchase_Frequency\n",
              "Few times a month         202\n",
              "Less than once a month    124\n",
              "Once a week               112\n",
              "Once a month              106\n",
              "Multiple times a week      56\n",
              "Name: count, dtype: int64"
            ]
          },
          "metadata": {},
          "execution_count": 30
        }
      ]
    },
    {
      "cell_type": "code",
      "source": [
        "# Perform one-hot encoding for the 'Purchase_Frequency' column and store it in the DataFrame\n",
        "df = pd.get_dummies(df, columns=['Purchase_Frequency'], prefix='Purchase_Frequency', dtype=int)"
      ],
      "metadata": {
        "id": "rMwNOj_4JcHd"
      },
      "execution_count": 31,
      "outputs": []
    },
    {
      "cell_type": "markdown",
      "source": [
        "#####**Purchase_Categories**"
      ],
      "metadata": {
        "id": "D8smOyiNWkTj"
      }
    },
    {
      "cell_type": "code",
      "source": [
        "df['Purchase_Categories'].value_counts()"
      ],
      "metadata": {
        "colab": {
          "base_uri": "https://localhost:8080/"
        },
        "id": "FYyC877dNm9x",
        "outputId": "223f5ef1-7c2c-4e59-e5aa-e212b2a3a32d"
      },
      "execution_count": 32,
      "outputs": [
        {
          "output_type": "execute_result",
          "data": {
            "text/plain": [
              "Purchase_Categories\n",
              "Beauty and Personal Care                                                                            106\n",
              "Clothing and Fashion                                                                                105\n",
              "others                                                                                               48\n",
              "Beauty and Personal Care;Clothing and Fashion                                                        46\n",
              "Beauty and Personal Care;Clothing and Fashion;Home and Kitchen                                       42\n",
              "Groceries and Gourmet Food;Beauty and Personal Care;Clothing and Fashion;Home and Kitchen;others     32\n",
              "Clothing and Fashion;Home and Kitchen                                                                27\n",
              "Home and Kitchen                                                                                     24\n",
              "Beauty and Personal Care;Home and Kitchen                                                            21\n",
              "Clothing and Fashion;Home and Kitchen;others                                                         16\n",
              "Clothing and Fashion;others                                                                          14\n",
              "Groceries and Gourmet Food                                                                           14\n",
              "Groceries and Gourmet Food;Beauty and Personal Care;Clothing and Fashion;Home and Kitchen            14\n",
              "Beauty and Personal Care;Clothing and Fashion;others                                                 12\n",
              "Groceries and Gourmet Food;Beauty and Personal Care;Clothing and Fashion                             10\n",
              "Home and Kitchen;others                                                                               9\n",
              "Beauty and Personal Care;others                                                                       7\n",
              "Beauty and Personal Care;Clothing and Fashion;Home and Kitchen;others                                 7\n",
              "Groceries and Gourmet Food;Beauty and Personal Care                                                   7\n",
              "Groceries and Gourmet Food;Home and Kitchen;others                                                    6\n",
              "Groceries and Gourmet Food;Clothing and Fashion                                                       6\n",
              "Groceries and Gourmet Food;Home and Kitchen                                                           5\n",
              "Beauty and Personal Care;Home and Kitchen;others                                                      5\n",
              "Groceries and Gourmet Food;Beauty and Personal Care;Home and Kitchen                                  4\n",
              "Groceries and Gourmet Food;Clothing and Fashion;Home and Kitchen                                      4\n",
              "Groceries and Gourmet Food;Clothing and Fashion;Home and Kitchen;others                               3\n",
              "Groceries and Gourmet Food;Beauty and Personal Care;others                                            3\n",
              "Groceries and Gourmet Food;Clothing and Fashion;others                                                2\n",
              "Groceries and Gourmet Food;Beauty and Personal Care;Clothing and Fashion;others                       1\n",
              "Name: count, dtype: int64"
            ]
          },
          "metadata": {},
          "execution_count": 32
        }
      ]
    },
    {
      "cell_type": "code",
      "source": [
        "# Split the 'Purchase_Categories' column into separate columns\n",
        "categories_df = df['Purchase_Categories'].str.get_dummies(sep=';')"
      ],
      "metadata": {
        "id": "tA16uQkkIpk9"
      },
      "execution_count": 33,
      "outputs": []
    },
    {
      "cell_type": "code",
      "source": [
        "# Concatenate the encoded columns with the original DataFrame\n",
        "df = pd.concat([df, categories_df], axis=1)"
      ],
      "metadata": {
        "id": "C4LA6HESKBzb"
      },
      "execution_count": 34,
      "outputs": []
    },
    {
      "cell_type": "code",
      "source": [
        "# Drop the original 'Purchase_Categories' column\n",
        "df.drop('Purchase_Categories', axis=1, inplace=True)"
      ],
      "metadata": {
        "id": "tqr8e71oKDBM"
      },
      "execution_count": 35,
      "outputs": []
    },
    {
      "cell_type": "markdown",
      "source": [
        "#####**Personalized_Recommendation_Frequency**"
      ],
      "metadata": {
        "id": "M4HeYOjjWo8z"
      }
    },
    {
      "cell_type": "code",
      "source": [
        "df['Personalized_Recommendation_Frequency'].value_counts()"
      ],
      "metadata": {
        "colab": {
          "base_uri": "https://localhost:8080/"
        },
        "id": "C11gDre0NwFf",
        "outputId": "2fc0929b-c3ac-4572-bd8e-273f0e5b7612"
      },
      "execution_count": 36,
      "outputs": [
        {
          "output_type": "execute_result",
          "data": {
            "text/plain": [
              "Personalized_Recommendation_Frequency\n",
              "No           250\n",
              "Sometimes    228\n",
              "Yes          122\n",
              "Name: count, dtype: int64"
            ]
          },
          "metadata": {},
          "execution_count": 36
        }
      ]
    },
    {
      "cell_type": "code",
      "source": [
        "# Initialize LabelEncoder\n",
        "label_encoder = LabelEncoder()"
      ],
      "metadata": {
        "id": "8H2q4DYKKD0L"
      },
      "execution_count": 37,
      "outputs": []
    },
    {
      "cell_type": "code",
      "source": [
        "# Encode the 'Personalized_Recommendation_Frequency' column\n",
        "df['Personalized_Recommendation_Frequency'] = label_encoder.fit_transform(df['Personalized_Recommendation_Frequency'])"
      ],
      "metadata": {
        "id": "kb5MOekvKbgb"
      },
      "execution_count": 38,
      "outputs": []
    },
    {
      "cell_type": "markdown",
      "source": [
        "#####**Browsing_Frequency**"
      ],
      "metadata": {
        "id": "TD65wcDIW26x"
      }
    },
    {
      "cell_type": "code",
      "source": [
        "df['Browsing_Frequency'].value_counts()"
      ],
      "metadata": {
        "colab": {
          "base_uri": "https://localhost:8080/"
        },
        "id": "EQasAtWcTCeV",
        "outputId": "a621fe20-3278-499e-8a44-ca25bf8d1a2c"
      },
      "execution_count": 39,
      "outputs": [
        {
          "output_type": "execute_result",
          "data": {
            "text/plain": [
              "Browsing_Frequency\n",
              "Few times a week        248\n",
              "Few times a month       199\n",
              "Rarely                   77\n",
              "Multiple times a day     76\n",
              "Name: count, dtype: int64"
            ]
          },
          "metadata": {},
          "execution_count": 39
        }
      ]
    },
    {
      "cell_type": "code",
      "source": [
        "# Perform label encoding\n",
        "df['Browsing_Frequency'] = label_encoder.fit_transform(df['Browsing_Frequency'])"
      ],
      "metadata": {
        "id": "5yQrzaQjKfg7"
      },
      "execution_count": 40,
      "outputs": []
    },
    {
      "cell_type": "markdown",
      "source": [
        "#####**Product_Search_Method**"
      ],
      "metadata": {
        "id": "Gc5COSjPXAoi"
      }
    },
    {
      "cell_type": "code",
      "source": [
        "df['Product_Search_Method'].value_counts()"
      ],
      "metadata": {
        "colab": {
          "base_uri": "https://localhost:8080/"
        },
        "id": "GRmUtxZqTFHs",
        "outputId": "48b67b75-4aba-44cb-d932-45e1f0c295f2"
      },
      "execution_count": 41,
      "outputs": [
        {
          "output_type": "execute_result",
          "data": {
            "text/plain": [
              "Product_Search_Method\n",
              "categories    223\n",
              "Keyword       214\n",
              "Filter        127\n",
              "others         36\n",
              "Name: count, dtype: int64"
            ]
          },
          "metadata": {},
          "execution_count": 41
        }
      ]
    },
    {
      "cell_type": "code",
      "source": [
        "# Define a mapping dictionary\n",
        "mapping = {'categories': 0, 'Keyword': 1, 'Filter': 2, 'others': 3}"
      ],
      "metadata": {
        "id": "DD5Xdx03LDN5"
      },
      "execution_count": 42,
      "outputs": []
    },
    {
      "cell_type": "code",
      "source": [
        "# Map the categories to numerical values\n",
        "df['Product_Search_Method'] = df['Product_Search_Method'].map(mapping)"
      ],
      "metadata": {
        "id": "8tuhDfwDLXxZ"
      },
      "execution_count": 43,
      "outputs": []
    },
    {
      "cell_type": "markdown",
      "source": [
        "#####**Search_Result_Exploration**"
      ],
      "metadata": {
        "id": "Kk2rRUfBXFah"
      }
    },
    {
      "cell_type": "code",
      "source": [
        "df['Search_Result_Exploration'].value_counts()"
      ],
      "metadata": {
        "colab": {
          "base_uri": "https://localhost:8080/"
        },
        "id": "f8dcDanDTIBX",
        "outputId": "d5851ca6-26dd-490b-e06d-f1a00dde71b2"
      },
      "execution_count": 44,
      "outputs": [
        {
          "output_type": "execute_result",
          "data": {
            "text/plain": [
              "Search_Result_Exploration\n",
              "Multiple pages    440\n",
              "First page        160\n",
              "Name: count, dtype: int64"
            ]
          },
          "metadata": {},
          "execution_count": 44
        }
      ]
    },
    {
      "cell_type": "code",
      "source": [
        "# Define the condition and values for encoding\n",
        "condition = df['Search_Result_Exploration'] == 'Multiple pages'\n",
        "value_if_true = 1\n",
        "value_if_false = 0"
      ],
      "metadata": {
        "id": "l5U0ENKKLb54"
      },
      "execution_count": 45,
      "outputs": []
    },
    {
      "cell_type": "code",
      "source": [
        "# Use np.where to encode the column\n",
        "df['Search_Result_Exploration'] = np.where(condition, value_if_true, value_if_false)"
      ],
      "metadata": {
        "id": "z0F0QtXVLta4"
      },
      "execution_count": 46,
      "outputs": []
    },
    {
      "cell_type": "markdown",
      "source": [
        "#####**Add_to_Cart_Browsing**"
      ],
      "metadata": {
        "id": "8wtC4_8cXMW6"
      }
    },
    {
      "cell_type": "code",
      "source": [
        "df['Add_to_Cart_Browsing'].value_counts()"
      ],
      "metadata": {
        "colab": {
          "base_uri": "https://localhost:8080/"
        },
        "id": "Myw9ZNsoTKpV",
        "outputId": "0b5af6ba-2ebc-4f1e-ed7a-e29f5cd40003"
      },
      "execution_count": 47,
      "outputs": [
        {
          "output_type": "execute_result",
          "data": {
            "text/plain": [
              "Add_to_Cart_Browsing\n",
              "Maybe    247\n",
              "Yes      215\n",
              "No       138\n",
              "Name: count, dtype: int64"
            ]
          },
          "metadata": {},
          "execution_count": 47
        }
      ]
    },
    {
      "cell_type": "code",
      "source": [
        "# Define the mapping of values to integers\n",
        "mapping = {'Maybe': 1, 'Yes': 2, 'No': 0}"
      ],
      "metadata": {
        "id": "4dwlE6EJLxfY"
      },
      "execution_count": 48,
      "outputs": []
    },
    {
      "cell_type": "code",
      "source": [
        "# Use the map function to apply the mapping to the column\n",
        "df['Add_to_Cart_Browsing'] = df['Add_to_Cart_Browsing'].map(mapping)"
      ],
      "metadata": {
        "id": "pGL7ypYrMNCo"
      },
      "execution_count": 49,
      "outputs": []
    },
    {
      "cell_type": "code",
      "source": [
        "# Apply one-hot encoding\n",
        "df = pd.get_dummies(df, columns=['Cart_Completion_Frequency'], prefix='Cart_Completion',dtype=int)"
      ],
      "metadata": {
        "id": "LOGTEY9NM-an"
      },
      "execution_count": 50,
      "outputs": []
    },
    {
      "cell_type": "code",
      "source": [
        "df['Cart_Abandonment_Factors'].value_counts()"
      ],
      "metadata": {
        "colab": {
          "base_uri": "https://localhost:8080/"
        },
        "id": "9jWMsiNzNPVG",
        "outputId": "bf462c2f-6fa5-405c-caac-09860849d92e"
      },
      "execution_count": 51,
      "outputs": [
        {
          "output_type": "execute_result",
          "data": {
            "text/plain": [
              "Cart_Abandonment_Factors\n",
              "Found a better price elsewhere                254\n",
              "Changed my mind or no longer need the item    240\n",
              "High shipping costs                            70\n",
              "others                                         36\n",
              "Name: count, dtype: int64"
            ]
          },
          "metadata": {},
          "execution_count": 51
        }
      ]
    },
    {
      "cell_type": "code",
      "source": [
        "# Apply one-hot encoding\n",
        "df = pd.get_dummies(df, columns=['Cart_Abandonment_Factors'], prefix='Cart_Abandonment',dtype=int)"
      ],
      "metadata": {
        "id": "yVRhmbTLTixo"
      },
      "execution_count": 52,
      "outputs": []
    },
    {
      "cell_type": "markdown",
      "source": [
        "#####**Saveforlater_Frequency**"
      ],
      "metadata": {
        "id": "xs31o8PtXbNR"
      }
    },
    {
      "cell_type": "code",
      "source": [
        "df['Saveforlater_Frequency'].value_counts()"
      ],
      "metadata": {
        "colab": {
          "base_uri": "https://localhost:8080/"
        },
        "id": "TJsvvI8fTqQX",
        "outputId": "dc49a211-9f61-4577-a306-7d1a5fe59d49"
      },
      "execution_count": 53,
      "outputs": [
        {
          "output_type": "execute_result",
          "data": {
            "text/plain": [
              "Saveforlater_Frequency\n",
              "Sometimes    251\n",
              "Often        154\n",
              "Rarely        82\n",
              "Never         59\n",
              "Always        54\n",
              "Name: count, dtype: int64"
            ]
          },
          "metadata": {},
          "execution_count": 53
        }
      ]
    },
    {
      "cell_type": "code",
      "source": [
        "# Apply one-hot encoding\n",
        "df = pd.get_dummies(df, columns=['Saveforlater_Frequency'], prefix='Saveforlater',dtype=int)"
      ],
      "metadata": {
        "id": "KiFKSx6UT87H"
      },
      "execution_count": 54,
      "outputs": []
    },
    {
      "cell_type": "markdown",
      "source": [
        "#####**Review_Left**"
      ],
      "metadata": {
        "id": "r3ON13aRXi-Z"
      }
    },
    {
      "cell_type": "code",
      "source": [
        "df['Review_Left'].value_counts()"
      ],
      "metadata": {
        "colab": {
          "base_uri": "https://localhost:8080/"
        },
        "id": "gOWUZ1_WUCSG",
        "outputId": "63cb3715-37ca-42ee-cddd-58b274f8073f"
      },
      "execution_count": 55,
      "outputs": [
        {
          "output_type": "execute_result",
          "data": {
            "text/plain": [
              "Review_Left\n",
              "Yes    310\n",
              "No     290\n",
              "Name: count, dtype: int64"
            ]
          },
          "metadata": {},
          "execution_count": 55
        }
      ]
    },
    {
      "cell_type": "code",
      "source": [
        "# Define the mapping dictionary\n",
        "review_left_mapping = {'No': 0, 'Yes': 1}"
      ],
      "metadata": {
        "id": "R8DsDKTKUOjG"
      },
      "execution_count": 56,
      "outputs": []
    },
    {
      "cell_type": "code",
      "source": [
        "# Map the values in the 'Review_Left' column using the defined mapping\n",
        "df['Review_Left'] = df['Review_Left'].map(review_left_mapping)"
      ],
      "metadata": {
        "id": "cNvxYgTxURFG"
      },
      "execution_count": 57,
      "outputs": []
    },
    {
      "cell_type": "markdown",
      "source": [
        "#####**Review_Reliability**"
      ],
      "metadata": {
        "id": "iFnTY7ZUXoqp"
      }
    },
    {
      "cell_type": "code",
      "source": [
        "df['Review_Reliability'].value_counts()"
      ],
      "metadata": {
        "colab": {
          "base_uri": "https://localhost:8080/"
        },
        "id": "FV3ugBfDUTd2",
        "outputId": "7f10e712-388e-4c83-bb66-58e414a8219b"
      },
      "execution_count": 58,
      "outputs": [
        {
          "output_type": "execute_result",
          "data": {
            "text/plain": [
              "Review_Reliability\n",
              "Moderately      197\n",
              "Occasionally    190\n",
              "Heavily         149\n",
              "Rarely           41\n",
              "Never            23\n",
              "Name: count, dtype: int64"
            ]
          },
          "metadata": {},
          "execution_count": 58
        }
      ]
    },
    {
      "cell_type": "code",
      "source": [
        "# Define the mapping dictionary\n",
        "review_reliability_mapping = {\n",
        "    'Never': 0,\n",
        "    'Rarely': 1,\n",
        "    'Occasionally': 2,\n",
        "    'Moderately': 3,\n",
        "    'Heavily': 4\n",
        "}"
      ],
      "metadata": {
        "id": "mGgLLWr-Ucj2"
      },
      "execution_count": 59,
      "outputs": []
    },
    {
      "cell_type": "code",
      "source": [
        "# Map the values in the 'Review_Reliability' column using the defined mapping\n",
        "df['Review_Reliability'] = df['Review_Reliability'].map(review_reliability_mapping)"
      ],
      "metadata": {
        "id": "uFsYGX6gUf5m"
      },
      "execution_count": 60,
      "outputs": []
    },
    {
      "cell_type": "markdown",
      "source": [
        "#####**Review_Helpfulness**"
      ],
      "metadata": {
        "id": "pKyyus_xXsVZ"
      }
    },
    {
      "cell_type": "code",
      "source": [
        "df['Review_Helpfulness'].value_counts()"
      ],
      "metadata": {
        "colab": {
          "base_uri": "https://localhost:8080/"
        },
        "id": "83lbZKK9Uhc2",
        "outputId": "ffb2fc0b-e494-4c53-c315-a66d7363a8f2"
      },
      "execution_count": 61,
      "outputs": [
        {
          "output_type": "execute_result",
          "data": {
            "text/plain": [
              "Review_Helpfulness\n",
              "Yes          237\n",
              "Sometimes    226\n",
              "No           137\n",
              "Name: count, dtype: int64"
            ]
          },
          "metadata": {},
          "execution_count": 61
        }
      ]
    },
    {
      "cell_type": "code",
      "source": [
        "# Define the mapping dictionary\n",
        "review_helpfulness_mapping = {\n",
        "    'No': 0,\n",
        "    'Sometimes': 1,\n",
        "    'Yes': 2\n",
        "}"
      ],
      "metadata": {
        "id": "FRZXhbH8UqrV"
      },
      "execution_count": 62,
      "outputs": []
    },
    {
      "cell_type": "code",
      "source": [
        "# Map the values in the 'Review_Helpfulness' column using the defined mapping\n",
        "df['Review_Helpfulness'] = df['Review_Helpfulness'].map(review_helpfulness_mapping)"
      ],
      "metadata": {
        "id": "VRXVt6SFUs_F"
      },
      "execution_count": 63,
      "outputs": []
    },
    {
      "cell_type": "markdown",
      "source": [
        "#####**Recommendation_Helpfulness**"
      ],
      "metadata": {
        "id": "6zc_nrZLXwU5"
      }
    },
    {
      "cell_type": "code",
      "source": [
        "df['Recommendation_Helpfulness'].value_counts()"
      ],
      "metadata": {
        "colab": {
          "base_uri": "https://localhost:8080/"
        },
        "id": "THZSKMp_UulF",
        "outputId": "3845cb5c-19e1-4319-eb31-ee73157b81f4"
      },
      "execution_count": 64,
      "outputs": [
        {
          "output_type": "execute_result",
          "data": {
            "text/plain": [
              "Recommendation_Helpfulness\n",
              "Sometimes    272\n",
              "No           171\n",
              "Yes          157\n",
              "Name: count, dtype: int64"
            ]
          },
          "metadata": {},
          "execution_count": 64
        }
      ]
    },
    {
      "cell_type": "code",
      "source": [
        "# Define the mapping dictionary\n",
        "recommendation_helpfulness_mapping = {\n",
        "    'No': 0,\n",
        "    'Sometimes': 1,\n",
        "    'Yes': 2\n",
        "}"
      ],
      "metadata": {
        "id": "K8rzU43lU8u1"
      },
      "execution_count": 65,
      "outputs": []
    },
    {
      "cell_type": "code",
      "source": [
        "# Map the values in the 'Recommendation_Helpfulness' column using the defined mapping\n",
        "df['Recommendation_Helpfulness'] = df['Recommendation_Helpfulness'].map(recommendation_helpfulness_mapping)"
      ],
      "metadata": {
        "id": "q_BawaUYU-FK"
      },
      "execution_count": 66,
      "outputs": []
    },
    {
      "cell_type": "markdown",
      "source": [
        "#####**Service_Appreciation**"
      ],
      "metadata": {
        "id": "wHhsXbk5X6Zp"
      }
    },
    {
      "cell_type": "code",
      "source": [
        "df['Service_Appreciation'].value_counts()"
      ],
      "metadata": {
        "colab": {
          "base_uri": "https://localhost:8080/"
        },
        "id": "JyS-44NwVGL1",
        "outputId": "b95a106a-fac5-4529-c2a9-9da27c3ea45f"
      },
      "execution_count": 67,
      "outputs": [
        {
          "output_type": "execute_result",
          "data": {
            "text/plain": [
              "Service_Appreciation\n",
              "Product recommendations                185\n",
              "Competitive prices                     182\n",
              "Wide product selection                 149\n",
              "User-friendly website/app interface     79\n",
              ".                                        1\n",
              "Customer service                         1\n",
              "Customer service                         1\n",
              "Quick delivery                           1\n",
              "All the above                            1\n",
              "Name: count, dtype: int64"
            ]
          },
          "metadata": {},
          "execution_count": 67
        }
      ]
    },
    {
      "cell_type": "code",
      "source": [
        "# Perform one-hot encoding for the 'Service_Appreciation' column\n",
        "df = pd.get_dummies(df, columns=['Service_Appreciation'], prefix='Service',dtype=int)"
      ],
      "metadata": {
        "id": "lLX0x87iVPc1"
      },
      "execution_count": 68,
      "outputs": []
    },
    {
      "cell_type": "markdown",
      "source": [
        "#####**Improvement_Areas**"
      ],
      "metadata": {
        "id": "dmNd5imaX9fR"
      }
    },
    {
      "cell_type": "code",
      "source": [
        "df['Improvement_Areas'].value_counts()"
      ],
      "metadata": {
        "colab": {
          "base_uri": "https://localhost:8080/"
        },
        "id": "fZ8mOl0PVX1E",
        "outputId": "9b759a63-dcb0-45bd-db37-9c5b2f8e4daf"
      },
      "execution_count": 69,
      "outputs": [
        {
          "output_type": "execute_result",
          "data": {
            "text/plain": [
              "Improvement_Areas\n",
              "Customer service responsiveness                                                   216\n",
              "Product quality and accuracy                                                      159\n",
              "Reducing packaging waste                                                          133\n",
              "Shipping speed and reliability                                                     78\n",
              "Quality of product is very poor according to the big offers                         1\n",
              "I don't have any problem with Amazon                                                1\n",
              "User interface of app                                                               1\n",
              "Irrelevant product suggestions                                                      1\n",
              "User interface                                                                      1\n",
              "I have no problem with Amazon yet. But others tell me about the refund issues       1\n",
              "UI                                                                                  1\n",
              "Scrolling option would be much better than going to next page                       1\n",
              "Add more familiar brands to the list                                                1\n",
              "Nil                                                                                 1\n",
              "better app interface and lower shipping charges                                     1\n",
              "Nothing                                                                             1\n",
              ".                                                                                   1\n",
              "No problems with Amazon                                                             1\n",
              "Name: count, dtype: int64"
            ]
          },
          "metadata": {},
          "execution_count": 69
        }
      ]
    },
    {
      "cell_type": "code",
      "source": [
        "# Split the values in the \"Improvement_Areas\" column by delimiter ';'\n",
        "df['Improvement_Areas'] = df['Improvement_Areas'].str.split(';')"
      ],
      "metadata": {
        "id": "XYOzcdKLVm8D"
      },
      "execution_count": 70,
      "outputs": []
    },
    {
      "cell_type": "code",
      "source": [
        "# Perform one-hot encoding for the \"Improvement_Areas\" column\n",
        "df = df.explode('Improvement_Areas')"
      ],
      "metadata": {
        "id": "jZ1zuPRgV4BB"
      },
      "execution_count": 71,
      "outputs": []
    },
    {
      "cell_type": "code",
      "source": [
        "df = pd.get_dummies(df, columns=['Improvement_Areas'], prefix='Improvement',dtype=int)"
      ],
      "metadata": {
        "id": "6T10QqrFV5Ex"
      },
      "execution_count": 72,
      "outputs": []
    },
    {
      "cell_type": "code",
      "source": [
        "df.head()"
      ],
      "metadata": {
        "colab": {
          "base_uri": "https://localhost:8080/",
          "height": 308
        },
        "id": "IeiCgNs_V7xh",
        "outputId": "c64c7cb9-b362-4c3e-dd27-c893d28f5595"
      },
      "execution_count": 73,
      "outputs": [
        {
          "output_type": "execute_result",
          "data": {
            "text/plain": [
              "   age  Personalized_Recommendation_Frequency  Browsing_Frequency  \\\n",
              "0   23                                      2                   1   \n",
              "1   23                                      2                   0   \n",
              "2   24                                      0                   0   \n",
              "3   24                                      1                   0   \n",
              "4   22                                      2                   0   \n",
              "\n",
              "   Product_Search_Method  Search_Result_Exploration  \\\n",
              "0                      1                          1   \n",
              "1                      1                          1   \n",
              "2                      1                          1   \n",
              "3                      1                          0   \n",
              "4                      2                          1   \n",
              "\n",
              "   Customer_Reviews_Importance  Add_to_Cart_Browsing  Review_Left  \\\n",
              "0                            1                     2            1   \n",
              "1                            1                     2            0   \n",
              "2                            2                     2            0   \n",
              "3                            5                     1            1   \n",
              "4                            1                     2            0   \n",
              "\n",
              "   Review_Reliability  Review_Helpfulness  ...  Improvement_Nothing  \\\n",
              "0                   2                   2  ...                    0   \n",
              "1                   4                   2  ...                    0   \n",
              "2                   2                   0  ...                    0   \n",
              "3                   4                   2  ...                    0   \n",
              "4                   4                   2  ...                    0   \n",
              "\n",
              "   Improvement_Product quality and accuracy  \\\n",
              "0                                         0   \n",
              "1                                         0   \n",
              "2                                         1   \n",
              "3                                         1   \n",
              "4                                         1   \n",
              "\n",
              "   Improvement_Quality of product is very poor according to the big offers  \\\n",
              "0                                                  0                         \n",
              "1                                                  0                         \n",
              "2                                                  0                         \n",
              "3                                                  0                         \n",
              "4                                                  0                         \n",
              "\n",
              "   Improvement_Reducing packaging waste  \\\n",
              "0                                     1   \n",
              "1                                     1   \n",
              "2                                     0   \n",
              "3                                     0   \n",
              "4                                     0   \n",
              "\n",
              "   Improvement_Scrolling option would be much better than going to next page  \\\n",
              "0                                                  0                           \n",
              "1                                                  0                           \n",
              "2                                                  0                           \n",
              "3                                                  0                           \n",
              "4                                                  0                           \n",
              "\n",
              "   Improvement_Shipping speed and reliability  Improvement_UI  \\\n",
              "0                                           0               0   \n",
              "1                                           0               0   \n",
              "2                                           0               0   \n",
              "3                                           0               0   \n",
              "4                                           0               0   \n",
              "\n",
              "   Improvement_User interface   Improvement_User interface of app  \\\n",
              "0                            0                                  0   \n",
              "1                            0                                  0   \n",
              "2                            0                                  0   \n",
              "3                            0                                  0   \n",
              "4                            0                                  0   \n",
              "\n",
              "   Improvement_better app interface and lower shipping charges  \n",
              "0                                                  0            \n",
              "1                                                  0            \n",
              "2                                                  0            \n",
              "3                                                  0            \n",
              "4                                                  0            \n",
              "\n",
              "[5 rows x 69 columns]"
            ],
            "text/html": [
              "\n",
              "  <div id=\"df-52aa2157-a58d-4214-88b0-6773901dae89\" class=\"colab-df-container\">\n",
              "    <div>\n",
              "<style scoped>\n",
              "    .dataframe tbody tr th:only-of-type {\n",
              "        vertical-align: middle;\n",
              "    }\n",
              "\n",
              "    .dataframe tbody tr th {\n",
              "        vertical-align: top;\n",
              "    }\n",
              "\n",
              "    .dataframe thead th {\n",
              "        text-align: right;\n",
              "    }\n",
              "</style>\n",
              "<table border=\"1\" class=\"dataframe\">\n",
              "  <thead>\n",
              "    <tr style=\"text-align: right;\">\n",
              "      <th></th>\n",
              "      <th>age</th>\n",
              "      <th>Personalized_Recommendation_Frequency</th>\n",
              "      <th>Browsing_Frequency</th>\n",
              "      <th>Product_Search_Method</th>\n",
              "      <th>Search_Result_Exploration</th>\n",
              "      <th>Customer_Reviews_Importance</th>\n",
              "      <th>Add_to_Cart_Browsing</th>\n",
              "      <th>Review_Left</th>\n",
              "      <th>Review_Reliability</th>\n",
              "      <th>Review_Helpfulness</th>\n",
              "      <th>...</th>\n",
              "      <th>Improvement_Nothing</th>\n",
              "      <th>Improvement_Product quality and accuracy</th>\n",
              "      <th>Improvement_Quality of product is very poor according to the big offers</th>\n",
              "      <th>Improvement_Reducing packaging waste</th>\n",
              "      <th>Improvement_Scrolling option would be much better than going to next page</th>\n",
              "      <th>Improvement_Shipping speed and reliability</th>\n",
              "      <th>Improvement_UI</th>\n",
              "      <th>Improvement_User interface</th>\n",
              "      <th>Improvement_User interface of app</th>\n",
              "      <th>Improvement_better app interface and lower shipping charges</th>\n",
              "    </tr>\n",
              "  </thead>\n",
              "  <tbody>\n",
              "    <tr>\n",
              "      <th>0</th>\n",
              "      <td>23</td>\n",
              "      <td>2</td>\n",
              "      <td>1</td>\n",
              "      <td>1</td>\n",
              "      <td>1</td>\n",
              "      <td>1</td>\n",
              "      <td>2</td>\n",
              "      <td>1</td>\n",
              "      <td>2</td>\n",
              "      <td>2</td>\n",
              "      <td>...</td>\n",
              "      <td>0</td>\n",
              "      <td>0</td>\n",
              "      <td>0</td>\n",
              "      <td>1</td>\n",
              "      <td>0</td>\n",
              "      <td>0</td>\n",
              "      <td>0</td>\n",
              "      <td>0</td>\n",
              "      <td>0</td>\n",
              "      <td>0</td>\n",
              "    </tr>\n",
              "    <tr>\n",
              "      <th>1</th>\n",
              "      <td>23</td>\n",
              "      <td>2</td>\n",
              "      <td>0</td>\n",
              "      <td>1</td>\n",
              "      <td>1</td>\n",
              "      <td>1</td>\n",
              "      <td>2</td>\n",
              "      <td>0</td>\n",
              "      <td>4</td>\n",
              "      <td>2</td>\n",
              "      <td>...</td>\n",
              "      <td>0</td>\n",
              "      <td>0</td>\n",
              "      <td>0</td>\n",
              "      <td>1</td>\n",
              "      <td>0</td>\n",
              "      <td>0</td>\n",
              "      <td>0</td>\n",
              "      <td>0</td>\n",
              "      <td>0</td>\n",
              "      <td>0</td>\n",
              "    </tr>\n",
              "    <tr>\n",
              "      <th>2</th>\n",
              "      <td>24</td>\n",
              "      <td>0</td>\n",
              "      <td>0</td>\n",
              "      <td>1</td>\n",
              "      <td>1</td>\n",
              "      <td>2</td>\n",
              "      <td>2</td>\n",
              "      <td>0</td>\n",
              "      <td>2</td>\n",
              "      <td>0</td>\n",
              "      <td>...</td>\n",
              "      <td>0</td>\n",
              "      <td>1</td>\n",
              "      <td>0</td>\n",
              "      <td>0</td>\n",
              "      <td>0</td>\n",
              "      <td>0</td>\n",
              "      <td>0</td>\n",
              "      <td>0</td>\n",
              "      <td>0</td>\n",
              "      <td>0</td>\n",
              "    </tr>\n",
              "    <tr>\n",
              "      <th>3</th>\n",
              "      <td>24</td>\n",
              "      <td>1</td>\n",
              "      <td>0</td>\n",
              "      <td>1</td>\n",
              "      <td>0</td>\n",
              "      <td>5</td>\n",
              "      <td>1</td>\n",
              "      <td>1</td>\n",
              "      <td>4</td>\n",
              "      <td>2</td>\n",
              "      <td>...</td>\n",
              "      <td>0</td>\n",
              "      <td>1</td>\n",
              "      <td>0</td>\n",
              "      <td>0</td>\n",
              "      <td>0</td>\n",
              "      <td>0</td>\n",
              "      <td>0</td>\n",
              "      <td>0</td>\n",
              "      <td>0</td>\n",
              "      <td>0</td>\n",
              "    </tr>\n",
              "    <tr>\n",
              "      <th>4</th>\n",
              "      <td>22</td>\n",
              "      <td>2</td>\n",
              "      <td>0</td>\n",
              "      <td>2</td>\n",
              "      <td>1</td>\n",
              "      <td>1</td>\n",
              "      <td>2</td>\n",
              "      <td>0</td>\n",
              "      <td>4</td>\n",
              "      <td>2</td>\n",
              "      <td>...</td>\n",
              "      <td>0</td>\n",
              "      <td>1</td>\n",
              "      <td>0</td>\n",
              "      <td>0</td>\n",
              "      <td>0</td>\n",
              "      <td>0</td>\n",
              "      <td>0</td>\n",
              "      <td>0</td>\n",
              "      <td>0</td>\n",
              "      <td>0</td>\n",
              "    </tr>\n",
              "  </tbody>\n",
              "</table>\n",
              "<p>5 rows × 69 columns</p>\n",
              "</div>\n",
              "    <div class=\"colab-df-buttons\">\n",
              "\n",
              "  <div class=\"colab-df-container\">\n",
              "    <button class=\"colab-df-convert\" onclick=\"convertToInteractive('df-52aa2157-a58d-4214-88b0-6773901dae89')\"\n",
              "            title=\"Convert this dataframe to an interactive table.\"\n",
              "            style=\"display:none;\">\n",
              "\n",
              "  <svg xmlns=\"http://www.w3.org/2000/svg\" height=\"24px\" viewBox=\"0 -960 960 960\">\n",
              "    <path d=\"M120-120v-720h720v720H120Zm60-500h600v-160H180v160Zm220 220h160v-160H400v160Zm0 220h160v-160H400v160ZM180-400h160v-160H180v160Zm440 0h160v-160H620v160ZM180-180h160v-160H180v160Zm440 0h160v-160H620v160Z\"/>\n",
              "  </svg>\n",
              "    </button>\n",
              "\n",
              "  <style>\n",
              "    .colab-df-container {\n",
              "      display:flex;\n",
              "      gap: 12px;\n",
              "    }\n",
              "\n",
              "    .colab-df-convert {\n",
              "      background-color: #E8F0FE;\n",
              "      border: none;\n",
              "      border-radius: 50%;\n",
              "      cursor: pointer;\n",
              "      display: none;\n",
              "      fill: #1967D2;\n",
              "      height: 32px;\n",
              "      padding: 0 0 0 0;\n",
              "      width: 32px;\n",
              "    }\n",
              "\n",
              "    .colab-df-convert:hover {\n",
              "      background-color: #E2EBFA;\n",
              "      box-shadow: 0px 1px 2px rgba(60, 64, 67, 0.3), 0px 1px 3px 1px rgba(60, 64, 67, 0.15);\n",
              "      fill: #174EA6;\n",
              "    }\n",
              "\n",
              "    .colab-df-buttons div {\n",
              "      margin-bottom: 4px;\n",
              "    }\n",
              "\n",
              "    [theme=dark] .colab-df-convert {\n",
              "      background-color: #3B4455;\n",
              "      fill: #D2E3FC;\n",
              "    }\n",
              "\n",
              "    [theme=dark] .colab-df-convert:hover {\n",
              "      background-color: #434B5C;\n",
              "      box-shadow: 0px 1px 3px 1px rgba(0, 0, 0, 0.15);\n",
              "      filter: drop-shadow(0px 1px 2px rgba(0, 0, 0, 0.3));\n",
              "      fill: #FFFFFF;\n",
              "    }\n",
              "  </style>\n",
              "\n",
              "    <script>\n",
              "      const buttonEl =\n",
              "        document.querySelector('#df-52aa2157-a58d-4214-88b0-6773901dae89 button.colab-df-convert');\n",
              "      buttonEl.style.display =\n",
              "        google.colab.kernel.accessAllowed ? 'block' : 'none';\n",
              "\n",
              "      async function convertToInteractive(key) {\n",
              "        const element = document.querySelector('#df-52aa2157-a58d-4214-88b0-6773901dae89');\n",
              "        const dataTable =\n",
              "          await google.colab.kernel.invokeFunction('convertToInteractive',\n",
              "                                                    [key], {});\n",
              "        if (!dataTable) return;\n",
              "\n",
              "        const docLinkHtml = 'Like what you see? Visit the ' +\n",
              "          '<a target=\"_blank\" href=https://colab.research.google.com/notebooks/data_table.ipynb>data table notebook</a>'\n",
              "          + ' to learn more about interactive tables.';\n",
              "        element.innerHTML = '';\n",
              "        dataTable['output_type'] = 'display_data';\n",
              "        await google.colab.output.renderOutput(dataTable, element);\n",
              "        const docLink = document.createElement('div');\n",
              "        docLink.innerHTML = docLinkHtml;\n",
              "        element.appendChild(docLink);\n",
              "      }\n",
              "    </script>\n",
              "  </div>\n",
              "\n",
              "\n",
              "<div id=\"df-011d6930-efb0-4a50-9267-8d57aed64617\">\n",
              "  <button class=\"colab-df-quickchart\" onclick=\"quickchart('df-011d6930-efb0-4a50-9267-8d57aed64617')\"\n",
              "            title=\"Suggest charts\"\n",
              "            style=\"display:none;\">\n",
              "\n",
              "<svg xmlns=\"http://www.w3.org/2000/svg\" height=\"24px\"viewBox=\"0 0 24 24\"\n",
              "     width=\"24px\">\n",
              "    <g>\n",
              "        <path d=\"M19 3H5c-1.1 0-2 .9-2 2v14c0 1.1.9 2 2 2h14c1.1 0 2-.9 2-2V5c0-1.1-.9-2-2-2zM9 17H7v-7h2v7zm4 0h-2V7h2v10zm4 0h-2v-4h2v4z\"/>\n",
              "    </g>\n",
              "</svg>\n",
              "  </button>\n",
              "\n",
              "<style>\n",
              "  .colab-df-quickchart {\n",
              "      --bg-color: #E8F0FE;\n",
              "      --fill-color: #1967D2;\n",
              "      --hover-bg-color: #E2EBFA;\n",
              "      --hover-fill-color: #174EA6;\n",
              "      --disabled-fill-color: #AAA;\n",
              "      --disabled-bg-color: #DDD;\n",
              "  }\n",
              "\n",
              "  [theme=dark] .colab-df-quickchart {\n",
              "      --bg-color: #3B4455;\n",
              "      --fill-color: #D2E3FC;\n",
              "      --hover-bg-color: #434B5C;\n",
              "      --hover-fill-color: #FFFFFF;\n",
              "      --disabled-bg-color: #3B4455;\n",
              "      --disabled-fill-color: #666;\n",
              "  }\n",
              "\n",
              "  .colab-df-quickchart {\n",
              "    background-color: var(--bg-color);\n",
              "    border: none;\n",
              "    border-radius: 50%;\n",
              "    cursor: pointer;\n",
              "    display: none;\n",
              "    fill: var(--fill-color);\n",
              "    height: 32px;\n",
              "    padding: 0;\n",
              "    width: 32px;\n",
              "  }\n",
              "\n",
              "  .colab-df-quickchart:hover {\n",
              "    background-color: var(--hover-bg-color);\n",
              "    box-shadow: 0 1px 2px rgba(60, 64, 67, 0.3), 0 1px 3px 1px rgba(60, 64, 67, 0.15);\n",
              "    fill: var(--button-hover-fill-color);\n",
              "  }\n",
              "\n",
              "  .colab-df-quickchart-complete:disabled,\n",
              "  .colab-df-quickchart-complete:disabled:hover {\n",
              "    background-color: var(--disabled-bg-color);\n",
              "    fill: var(--disabled-fill-color);\n",
              "    box-shadow: none;\n",
              "  }\n",
              "\n",
              "  .colab-df-spinner {\n",
              "    border: 2px solid var(--fill-color);\n",
              "    border-color: transparent;\n",
              "    border-bottom-color: var(--fill-color);\n",
              "    animation:\n",
              "      spin 1s steps(1) infinite;\n",
              "  }\n",
              "\n",
              "  @keyframes spin {\n",
              "    0% {\n",
              "      border-color: transparent;\n",
              "      border-bottom-color: var(--fill-color);\n",
              "      border-left-color: var(--fill-color);\n",
              "    }\n",
              "    20% {\n",
              "      border-color: transparent;\n",
              "      border-left-color: var(--fill-color);\n",
              "      border-top-color: var(--fill-color);\n",
              "    }\n",
              "    30% {\n",
              "      border-color: transparent;\n",
              "      border-left-color: var(--fill-color);\n",
              "      border-top-color: var(--fill-color);\n",
              "      border-right-color: var(--fill-color);\n",
              "    }\n",
              "    40% {\n",
              "      border-color: transparent;\n",
              "      border-right-color: var(--fill-color);\n",
              "      border-top-color: var(--fill-color);\n",
              "    }\n",
              "    60% {\n",
              "      border-color: transparent;\n",
              "      border-right-color: var(--fill-color);\n",
              "    }\n",
              "    80% {\n",
              "      border-color: transparent;\n",
              "      border-right-color: var(--fill-color);\n",
              "      border-bottom-color: var(--fill-color);\n",
              "    }\n",
              "    90% {\n",
              "      border-color: transparent;\n",
              "      border-bottom-color: var(--fill-color);\n",
              "    }\n",
              "  }\n",
              "</style>\n",
              "\n",
              "  <script>\n",
              "    async function quickchart(key) {\n",
              "      const quickchartButtonEl =\n",
              "        document.querySelector('#' + key + ' button');\n",
              "      quickchartButtonEl.disabled = true;  // To prevent multiple clicks.\n",
              "      quickchartButtonEl.classList.add('colab-df-spinner');\n",
              "      try {\n",
              "        const charts = await google.colab.kernel.invokeFunction(\n",
              "            'suggestCharts', [key], {});\n",
              "      } catch (error) {\n",
              "        console.error('Error during call to suggestCharts:', error);\n",
              "      }\n",
              "      quickchartButtonEl.classList.remove('colab-df-spinner');\n",
              "      quickchartButtonEl.classList.add('colab-df-quickchart-complete');\n",
              "    }\n",
              "    (() => {\n",
              "      let quickchartButtonEl =\n",
              "        document.querySelector('#df-011d6930-efb0-4a50-9267-8d57aed64617 button');\n",
              "      quickchartButtonEl.style.display =\n",
              "        google.colab.kernel.accessAllowed ? 'block' : 'none';\n",
              "    })();\n",
              "  </script>\n",
              "</div>\n",
              "\n",
              "    </div>\n",
              "  </div>\n"
            ],
            "application/vnd.google.colaboratory.intrinsic+json": {
              "type": "dataframe",
              "variable_name": "df"
            }
          },
          "metadata": {},
          "execution_count": 73
        }
      ]
    },
    {
      "cell_type": "code",
      "source": [
        "# Define your features\n",
        "X = df.drop(['Personalized_Recommendation_Frequency'], axis=1)"
      ],
      "metadata": {
        "id": "AWFUkTk5KIAq"
      },
      "execution_count": 75,
      "outputs": []
    },
    {
      "cell_type": "code",
      "source": [
        "# Define your target variable\n",
        "y = df['Personalized_Recommendation_Frequency']"
      ],
      "metadata": {
        "id": "HgniSjibONYk"
      },
      "execution_count": 76,
      "outputs": []
    },
    {
      "cell_type": "code",
      "source": [
        "X_train,X_test,y_train,y_test=train_test_split(X,y,test_size=0.1,random_state=4)"
      ],
      "metadata": {
        "id": "JJj38hXDORG1"
      },
      "execution_count": 77,
      "outputs": []
    },
    {
      "cell_type": "code",
      "source": [
        "# Initialize MinMaxScaler\n",
        "scaler = MinMaxScaler()"
      ],
      "metadata": {
        "id": "a9RkvuXdiatL"
      },
      "execution_count": 79,
      "outputs": []
    },
    {
      "cell_type": "code",
      "source": [
        "# Fit and transform the scaler on training data, and transform test data\n",
        "X_train_scaled = scaler.fit_transform(X_train)\n",
        "X_test_scaled = scaler.transform(X_test)"
      ],
      "metadata": {
        "id": "zfgH4RV3iab6"
      },
      "execution_count": 80,
      "outputs": []
    },
    {
      "cell_type": "markdown",
      "source": [
        "#####**Logistic Regression**"
      ],
      "metadata": {
        "id": "_iMnH1lZtk3j"
      }
    },
    {
      "cell_type": "code",
      "source": [
        "# Initialize Logistic Regression model\n",
        "log_reg_model = LogisticRegression(random_state=42)"
      ],
      "metadata": {
        "id": "p476l1ELiaRI"
      },
      "execution_count": 81,
      "outputs": []
    },
    {
      "cell_type": "code",
      "source": [
        "# Fit the model on the scaled training data\n",
        "log_reg_model.fit(X_train_scaled, y_train)"
      ],
      "metadata": {
        "colab": {
          "base_uri": "https://localhost:8080/",
          "height": 75
        },
        "id": "8jklBQx0iZ9L",
        "outputId": "2292db37-76d6-4684-a255-a75ef59a27d5"
      },
      "execution_count": 82,
      "outputs": [
        {
          "output_type": "execute_result",
          "data": {
            "text/plain": [
              "LogisticRegression(random_state=42)"
            ],
            "text/html": [
              "<style>#sk-container-id-1 {color: black;background-color: white;}#sk-container-id-1 pre{padding: 0;}#sk-container-id-1 div.sk-toggleable {background-color: white;}#sk-container-id-1 label.sk-toggleable__label {cursor: pointer;display: block;width: 100%;margin-bottom: 0;padding: 0.3em;box-sizing: border-box;text-align: center;}#sk-container-id-1 label.sk-toggleable__label-arrow:before {content: \"▸\";float: left;margin-right: 0.25em;color: #696969;}#sk-container-id-1 label.sk-toggleable__label-arrow:hover:before {color: black;}#sk-container-id-1 div.sk-estimator:hover label.sk-toggleable__label-arrow:before {color: black;}#sk-container-id-1 div.sk-toggleable__content {max-height: 0;max-width: 0;overflow: hidden;text-align: left;background-color: #f0f8ff;}#sk-container-id-1 div.sk-toggleable__content pre {margin: 0.2em;color: black;border-radius: 0.25em;background-color: #f0f8ff;}#sk-container-id-1 input.sk-toggleable__control:checked~div.sk-toggleable__content {max-height: 200px;max-width: 100%;overflow: auto;}#sk-container-id-1 input.sk-toggleable__control:checked~label.sk-toggleable__label-arrow:before {content: \"▾\";}#sk-container-id-1 div.sk-estimator input.sk-toggleable__control:checked~label.sk-toggleable__label {background-color: #d4ebff;}#sk-container-id-1 div.sk-label input.sk-toggleable__control:checked~label.sk-toggleable__label {background-color: #d4ebff;}#sk-container-id-1 input.sk-hidden--visually {border: 0;clip: rect(1px 1px 1px 1px);clip: rect(1px, 1px, 1px, 1px);height: 1px;margin: -1px;overflow: hidden;padding: 0;position: absolute;width: 1px;}#sk-container-id-1 div.sk-estimator {font-family: monospace;background-color: #f0f8ff;border: 1px dotted black;border-radius: 0.25em;box-sizing: border-box;margin-bottom: 0.5em;}#sk-container-id-1 div.sk-estimator:hover {background-color: #d4ebff;}#sk-container-id-1 div.sk-parallel-item::after {content: \"\";width: 100%;border-bottom: 1px solid gray;flex-grow: 1;}#sk-container-id-1 div.sk-label:hover label.sk-toggleable__label {background-color: #d4ebff;}#sk-container-id-1 div.sk-serial::before {content: \"\";position: absolute;border-left: 1px solid gray;box-sizing: border-box;top: 0;bottom: 0;left: 50%;z-index: 0;}#sk-container-id-1 div.sk-serial {display: flex;flex-direction: column;align-items: center;background-color: white;padding-right: 0.2em;padding-left: 0.2em;position: relative;}#sk-container-id-1 div.sk-item {position: relative;z-index: 1;}#sk-container-id-1 div.sk-parallel {display: flex;align-items: stretch;justify-content: center;background-color: white;position: relative;}#sk-container-id-1 div.sk-item::before, #sk-container-id-1 div.sk-parallel-item::before {content: \"\";position: absolute;border-left: 1px solid gray;box-sizing: border-box;top: 0;bottom: 0;left: 50%;z-index: -1;}#sk-container-id-1 div.sk-parallel-item {display: flex;flex-direction: column;z-index: 1;position: relative;background-color: white;}#sk-container-id-1 div.sk-parallel-item:first-child::after {align-self: flex-end;width: 50%;}#sk-container-id-1 div.sk-parallel-item:last-child::after {align-self: flex-start;width: 50%;}#sk-container-id-1 div.sk-parallel-item:only-child::after {width: 0;}#sk-container-id-1 div.sk-dashed-wrapped {border: 1px dashed gray;margin: 0 0.4em 0.5em 0.4em;box-sizing: border-box;padding-bottom: 0.4em;background-color: white;}#sk-container-id-1 div.sk-label label {font-family: monospace;font-weight: bold;display: inline-block;line-height: 1.2em;}#sk-container-id-1 div.sk-label-container {text-align: center;}#sk-container-id-1 div.sk-container {/* jupyter's `normalize.less` sets `[hidden] { display: none; }` but bootstrap.min.css set `[hidden] { display: none !important; }` so we also need the `!important` here to be able to override the default hidden behavior on the sphinx rendered scikit-learn.org. See: https://github.com/scikit-learn/scikit-learn/issues/21755 */display: inline-block !important;position: relative;}#sk-container-id-1 div.sk-text-repr-fallback {display: none;}</style><div id=\"sk-container-id-1\" class=\"sk-top-container\"><div class=\"sk-text-repr-fallback\"><pre>LogisticRegression(random_state=42)</pre><b>In a Jupyter environment, please rerun this cell to show the HTML representation or trust the notebook. <br />On GitHub, the HTML representation is unable to render, please try loading this page with nbviewer.org.</b></div><div class=\"sk-container\" hidden><div class=\"sk-item\"><div class=\"sk-estimator sk-toggleable\"><input class=\"sk-toggleable__control sk-hidden--visually\" id=\"sk-estimator-id-1\" type=\"checkbox\" checked><label for=\"sk-estimator-id-1\" class=\"sk-toggleable__label sk-toggleable__label-arrow\">LogisticRegression</label><div class=\"sk-toggleable__content\"><pre>LogisticRegression(random_state=42)</pre></div></div></div></div></div>"
            ]
          },
          "metadata": {},
          "execution_count": 82
        }
      ]
    },
    {
      "cell_type": "code",
      "source": [
        "# Make predictions on the test set\n",
        "y_pred = log_reg_model.predict(X_test_scaled)"
      ],
      "metadata": {
        "id": "CbhFcUefjJNE"
      },
      "execution_count": 83,
      "outputs": []
    },
    {
      "cell_type": "code",
      "source": [
        "# Classification Report\n",
        "print(\"\\nClassification Report:\")\n",
        "print(classification_report(y_test, y_pred))"
      ],
      "metadata": {
        "colab": {
          "base_uri": "https://localhost:8080/"
        },
        "id": "qG7QMB6_jJA8",
        "outputId": "d410857f-1a7a-4d72-df97-277da7ab9bcd"
      },
      "execution_count": 84,
      "outputs": [
        {
          "output_type": "stream",
          "name": "stdout",
          "text": [
            "\n",
            "Classification Report:\n",
            "              precision    recall  f1-score   support\n",
            "\n",
            "           0       0.42      0.54      0.47        24\n",
            "           1       0.45      0.36      0.40        28\n",
            "           2       0.14      0.12      0.13         8\n",
            "\n",
            "    accuracy                           0.40        60\n",
            "   macro avg       0.34      0.34      0.34        60\n",
            "weighted avg       0.40      0.40      0.39        60\n",
            "\n"
          ]
        }
      ]
    },
    {
      "cell_type": "markdown",
      "source": [
        "#####**Random Forest classifier**"
      ],
      "metadata": {
        "id": "3y498zMTtrmt"
      }
    },
    {
      "cell_type": "code",
      "source": [
        "# Initialize Random Forest classifier\n",
        "rf_classifier = RandomForestClassifier(random_state=42)"
      ],
      "metadata": {
        "id": "163ZsP2_kHdm"
      },
      "execution_count": 86,
      "outputs": []
    },
    {
      "cell_type": "code",
      "source": [
        "# Fit the model on the scaled training data\n",
        "rf_classifier.fit(X_train_scaled, y_train)"
      ],
      "metadata": {
        "colab": {
          "base_uri": "https://localhost:8080/",
          "height": 75
        },
        "id": "6y0ULacBkIpV",
        "outputId": "c43d1c73-63d1-4d3a-8aee-908e33c4eb90"
      },
      "execution_count": 87,
      "outputs": [
        {
          "output_type": "execute_result",
          "data": {
            "text/plain": [
              "RandomForestClassifier(random_state=42)"
            ],
            "text/html": [
              "<style>#sk-container-id-2 {color: black;background-color: white;}#sk-container-id-2 pre{padding: 0;}#sk-container-id-2 div.sk-toggleable {background-color: white;}#sk-container-id-2 label.sk-toggleable__label {cursor: pointer;display: block;width: 100%;margin-bottom: 0;padding: 0.3em;box-sizing: border-box;text-align: center;}#sk-container-id-2 label.sk-toggleable__label-arrow:before {content: \"▸\";float: left;margin-right: 0.25em;color: #696969;}#sk-container-id-2 label.sk-toggleable__label-arrow:hover:before {color: black;}#sk-container-id-2 div.sk-estimator:hover label.sk-toggleable__label-arrow:before {color: black;}#sk-container-id-2 div.sk-toggleable__content {max-height: 0;max-width: 0;overflow: hidden;text-align: left;background-color: #f0f8ff;}#sk-container-id-2 div.sk-toggleable__content pre {margin: 0.2em;color: black;border-radius: 0.25em;background-color: #f0f8ff;}#sk-container-id-2 input.sk-toggleable__control:checked~div.sk-toggleable__content {max-height: 200px;max-width: 100%;overflow: auto;}#sk-container-id-2 input.sk-toggleable__control:checked~label.sk-toggleable__label-arrow:before {content: \"▾\";}#sk-container-id-2 div.sk-estimator input.sk-toggleable__control:checked~label.sk-toggleable__label {background-color: #d4ebff;}#sk-container-id-2 div.sk-label input.sk-toggleable__control:checked~label.sk-toggleable__label {background-color: #d4ebff;}#sk-container-id-2 input.sk-hidden--visually {border: 0;clip: rect(1px 1px 1px 1px);clip: rect(1px, 1px, 1px, 1px);height: 1px;margin: -1px;overflow: hidden;padding: 0;position: absolute;width: 1px;}#sk-container-id-2 div.sk-estimator {font-family: monospace;background-color: #f0f8ff;border: 1px dotted black;border-radius: 0.25em;box-sizing: border-box;margin-bottom: 0.5em;}#sk-container-id-2 div.sk-estimator:hover {background-color: #d4ebff;}#sk-container-id-2 div.sk-parallel-item::after {content: \"\";width: 100%;border-bottom: 1px solid gray;flex-grow: 1;}#sk-container-id-2 div.sk-label:hover label.sk-toggleable__label {background-color: #d4ebff;}#sk-container-id-2 div.sk-serial::before {content: \"\";position: absolute;border-left: 1px solid gray;box-sizing: border-box;top: 0;bottom: 0;left: 50%;z-index: 0;}#sk-container-id-2 div.sk-serial {display: flex;flex-direction: column;align-items: center;background-color: white;padding-right: 0.2em;padding-left: 0.2em;position: relative;}#sk-container-id-2 div.sk-item {position: relative;z-index: 1;}#sk-container-id-2 div.sk-parallel {display: flex;align-items: stretch;justify-content: center;background-color: white;position: relative;}#sk-container-id-2 div.sk-item::before, #sk-container-id-2 div.sk-parallel-item::before {content: \"\";position: absolute;border-left: 1px solid gray;box-sizing: border-box;top: 0;bottom: 0;left: 50%;z-index: -1;}#sk-container-id-2 div.sk-parallel-item {display: flex;flex-direction: column;z-index: 1;position: relative;background-color: white;}#sk-container-id-2 div.sk-parallel-item:first-child::after {align-self: flex-end;width: 50%;}#sk-container-id-2 div.sk-parallel-item:last-child::after {align-self: flex-start;width: 50%;}#sk-container-id-2 div.sk-parallel-item:only-child::after {width: 0;}#sk-container-id-2 div.sk-dashed-wrapped {border: 1px dashed gray;margin: 0 0.4em 0.5em 0.4em;box-sizing: border-box;padding-bottom: 0.4em;background-color: white;}#sk-container-id-2 div.sk-label label {font-family: monospace;font-weight: bold;display: inline-block;line-height: 1.2em;}#sk-container-id-2 div.sk-label-container {text-align: center;}#sk-container-id-2 div.sk-container {/* jupyter's `normalize.less` sets `[hidden] { display: none; }` but bootstrap.min.css set `[hidden] { display: none !important; }` so we also need the `!important` here to be able to override the default hidden behavior on the sphinx rendered scikit-learn.org. See: https://github.com/scikit-learn/scikit-learn/issues/21755 */display: inline-block !important;position: relative;}#sk-container-id-2 div.sk-text-repr-fallback {display: none;}</style><div id=\"sk-container-id-2\" class=\"sk-top-container\"><div class=\"sk-text-repr-fallback\"><pre>RandomForestClassifier(random_state=42)</pre><b>In a Jupyter environment, please rerun this cell to show the HTML representation or trust the notebook. <br />On GitHub, the HTML representation is unable to render, please try loading this page with nbviewer.org.</b></div><div class=\"sk-container\" hidden><div class=\"sk-item\"><div class=\"sk-estimator sk-toggleable\"><input class=\"sk-toggleable__control sk-hidden--visually\" id=\"sk-estimator-id-2\" type=\"checkbox\" checked><label for=\"sk-estimator-id-2\" class=\"sk-toggleable__label sk-toggleable__label-arrow\">RandomForestClassifier</label><div class=\"sk-toggleable__content\"><pre>RandomForestClassifier(random_state=42)</pre></div></div></div></div></div>"
            ]
          },
          "metadata": {},
          "execution_count": 87
        }
      ]
    },
    {
      "cell_type": "code",
      "source": [
        "# Make predictions on the test set\n",
        "rf_pred = rf_classifier.predict(X_test_scaled)"
      ],
      "metadata": {
        "id": "EJFQyuXZkJk1"
      },
      "execution_count": 88,
      "outputs": []
    },
    {
      "cell_type": "code",
      "source": [
        "# Classification Report for Random Forest\n",
        "print(\"Random Forest Classification Report:\")\n",
        "print(classification_report(y_test, rf_pred))"
      ],
      "metadata": {
        "colab": {
          "base_uri": "https://localhost:8080/"
        },
        "id": "OC96-T99kMG5",
        "outputId": "88f33369-750d-4cdc-9e72-02bbc65a7919"
      },
      "execution_count": 89,
      "outputs": [
        {
          "output_type": "stream",
          "name": "stdout",
          "text": [
            "Random Forest Classification Report:\n",
            "              precision    recall  f1-score   support\n",
            "\n",
            "           0       0.47      0.67      0.55        24\n",
            "           1       0.52      0.39      0.45        28\n",
            "           2       0.20      0.12      0.15         8\n",
            "\n",
            "    accuracy                           0.47        60\n",
            "   macro avg       0.40      0.39      0.38        60\n",
            "weighted avg       0.46      0.47      0.45        60\n",
            "\n"
          ]
        }
      ]
    },
    {
      "cell_type": "markdown",
      "source": [
        "#####**SVM classifier**"
      ],
      "metadata": {
        "id": "ZukLHKLHtzMD"
      }
    },
    {
      "cell_type": "code",
      "source": [
        "# Initialize SVM classifier\n",
        "svm_classifier = SVC(random_state=42)"
      ],
      "metadata": {
        "id": "OnSJvFmwkyEl"
      },
      "execution_count": 91,
      "outputs": []
    },
    {
      "cell_type": "code",
      "source": [
        "# Fit the model on the scaled training data\n",
        "svm_classifier.fit(X_train_scaled, y_train)"
      ],
      "metadata": {
        "colab": {
          "base_uri": "https://localhost:8080/",
          "height": 75
        },
        "id": "zalyZwGTkzEl",
        "outputId": "60120564-10b2-459e-f978-d769ca137927"
      },
      "execution_count": 92,
      "outputs": [
        {
          "output_type": "execute_result",
          "data": {
            "text/plain": [
              "SVC(random_state=42)"
            ],
            "text/html": [
              "<style>#sk-container-id-3 {color: black;background-color: white;}#sk-container-id-3 pre{padding: 0;}#sk-container-id-3 div.sk-toggleable {background-color: white;}#sk-container-id-3 label.sk-toggleable__label {cursor: pointer;display: block;width: 100%;margin-bottom: 0;padding: 0.3em;box-sizing: border-box;text-align: center;}#sk-container-id-3 label.sk-toggleable__label-arrow:before {content: \"▸\";float: left;margin-right: 0.25em;color: #696969;}#sk-container-id-3 label.sk-toggleable__label-arrow:hover:before {color: black;}#sk-container-id-3 div.sk-estimator:hover label.sk-toggleable__label-arrow:before {color: black;}#sk-container-id-3 div.sk-toggleable__content {max-height: 0;max-width: 0;overflow: hidden;text-align: left;background-color: #f0f8ff;}#sk-container-id-3 div.sk-toggleable__content pre {margin: 0.2em;color: black;border-radius: 0.25em;background-color: #f0f8ff;}#sk-container-id-3 input.sk-toggleable__control:checked~div.sk-toggleable__content {max-height: 200px;max-width: 100%;overflow: auto;}#sk-container-id-3 input.sk-toggleable__control:checked~label.sk-toggleable__label-arrow:before {content: \"▾\";}#sk-container-id-3 div.sk-estimator input.sk-toggleable__control:checked~label.sk-toggleable__label {background-color: #d4ebff;}#sk-container-id-3 div.sk-label input.sk-toggleable__control:checked~label.sk-toggleable__label {background-color: #d4ebff;}#sk-container-id-3 input.sk-hidden--visually {border: 0;clip: rect(1px 1px 1px 1px);clip: rect(1px, 1px, 1px, 1px);height: 1px;margin: -1px;overflow: hidden;padding: 0;position: absolute;width: 1px;}#sk-container-id-3 div.sk-estimator {font-family: monospace;background-color: #f0f8ff;border: 1px dotted black;border-radius: 0.25em;box-sizing: border-box;margin-bottom: 0.5em;}#sk-container-id-3 div.sk-estimator:hover {background-color: #d4ebff;}#sk-container-id-3 div.sk-parallel-item::after {content: \"\";width: 100%;border-bottom: 1px solid gray;flex-grow: 1;}#sk-container-id-3 div.sk-label:hover label.sk-toggleable__label {background-color: #d4ebff;}#sk-container-id-3 div.sk-serial::before {content: \"\";position: absolute;border-left: 1px solid gray;box-sizing: border-box;top: 0;bottom: 0;left: 50%;z-index: 0;}#sk-container-id-3 div.sk-serial {display: flex;flex-direction: column;align-items: center;background-color: white;padding-right: 0.2em;padding-left: 0.2em;position: relative;}#sk-container-id-3 div.sk-item {position: relative;z-index: 1;}#sk-container-id-3 div.sk-parallel {display: flex;align-items: stretch;justify-content: center;background-color: white;position: relative;}#sk-container-id-3 div.sk-item::before, #sk-container-id-3 div.sk-parallel-item::before {content: \"\";position: absolute;border-left: 1px solid gray;box-sizing: border-box;top: 0;bottom: 0;left: 50%;z-index: -1;}#sk-container-id-3 div.sk-parallel-item {display: flex;flex-direction: column;z-index: 1;position: relative;background-color: white;}#sk-container-id-3 div.sk-parallel-item:first-child::after {align-self: flex-end;width: 50%;}#sk-container-id-3 div.sk-parallel-item:last-child::after {align-self: flex-start;width: 50%;}#sk-container-id-3 div.sk-parallel-item:only-child::after {width: 0;}#sk-container-id-3 div.sk-dashed-wrapped {border: 1px dashed gray;margin: 0 0.4em 0.5em 0.4em;box-sizing: border-box;padding-bottom: 0.4em;background-color: white;}#sk-container-id-3 div.sk-label label {font-family: monospace;font-weight: bold;display: inline-block;line-height: 1.2em;}#sk-container-id-3 div.sk-label-container {text-align: center;}#sk-container-id-3 div.sk-container {/* jupyter's `normalize.less` sets `[hidden] { display: none; }` but bootstrap.min.css set `[hidden] { display: none !important; }` so we also need the `!important` here to be able to override the default hidden behavior on the sphinx rendered scikit-learn.org. See: https://github.com/scikit-learn/scikit-learn/issues/21755 */display: inline-block !important;position: relative;}#sk-container-id-3 div.sk-text-repr-fallback {display: none;}</style><div id=\"sk-container-id-3\" class=\"sk-top-container\"><div class=\"sk-text-repr-fallback\"><pre>SVC(random_state=42)</pre><b>In a Jupyter environment, please rerun this cell to show the HTML representation or trust the notebook. <br />On GitHub, the HTML representation is unable to render, please try loading this page with nbviewer.org.</b></div><div class=\"sk-container\" hidden><div class=\"sk-item\"><div class=\"sk-estimator sk-toggleable\"><input class=\"sk-toggleable__control sk-hidden--visually\" id=\"sk-estimator-id-3\" type=\"checkbox\" checked><label for=\"sk-estimator-id-3\" class=\"sk-toggleable__label sk-toggleable__label-arrow\">SVC</label><div class=\"sk-toggleable__content\"><pre>SVC(random_state=42)</pre></div></div></div></div></div>"
            ]
          },
          "metadata": {},
          "execution_count": 92
        }
      ]
    },
    {
      "cell_type": "code",
      "source": [
        "# Make predictions on the test set\n",
        "svm_pred = svm_classifier.predict(X_test_scaled)"
      ],
      "metadata": {
        "id": "OGiVQdpukz-l"
      },
      "execution_count": 93,
      "outputs": []
    },
    {
      "cell_type": "code",
      "source": [
        "# Classification Report for SVM\n",
        "print(\"SVM Classification Report:\")\n",
        "print(classification_report(y_test, svm_pred))"
      ],
      "metadata": {
        "colab": {
          "base_uri": "https://localhost:8080/"
        },
        "id": "LE8HRCWIk0-V",
        "outputId": "72216aff-94c7-44f1-db81-104c325162aa"
      },
      "execution_count": 94,
      "outputs": [
        {
          "output_type": "stream",
          "name": "stdout",
          "text": [
            "SVM Classification Report:\n",
            "              precision    recall  f1-score   support\n",
            "\n",
            "           0       0.49      0.79      0.60        24\n",
            "           1       0.59      0.36      0.44        28\n",
            "           2       0.00      0.00      0.00         8\n",
            "\n",
            "    accuracy                           0.48        60\n",
            "   macro avg       0.36      0.38      0.35        60\n",
            "weighted avg       0.47      0.48      0.45        60\n",
            "\n"
          ]
        }
      ]
    },
    {
      "cell_type": "markdown",
      "source": [
        "#####**KNeighbors Classifier**"
      ],
      "metadata": {
        "id": "qw6TEwkrt53A"
      }
    },
    {
      "cell_type": "code",
      "source": [
        "# Initialize K-Nearest Neighbors classifier\n",
        "knn_classifier = KNeighborsClassifier()"
      ],
      "metadata": {
        "id": "grI0CMIlk8bg"
      },
      "execution_count": 96,
      "outputs": []
    },
    {
      "cell_type": "code",
      "source": [
        "# Fit the model on the scaled training data\n",
        "knn_classifier.fit(X_train_scaled, y_train)"
      ],
      "metadata": {
        "colab": {
          "base_uri": "https://localhost:8080/",
          "height": 75
        },
        "id": "wrdmao50k-tP",
        "outputId": "3705d4d6-3a1f-4737-b088-6c248dfce327"
      },
      "execution_count": 97,
      "outputs": [
        {
          "output_type": "execute_result",
          "data": {
            "text/plain": [
              "KNeighborsClassifier()"
            ],
            "text/html": [
              "<style>#sk-container-id-4 {color: black;background-color: white;}#sk-container-id-4 pre{padding: 0;}#sk-container-id-4 div.sk-toggleable {background-color: white;}#sk-container-id-4 label.sk-toggleable__label {cursor: pointer;display: block;width: 100%;margin-bottom: 0;padding: 0.3em;box-sizing: border-box;text-align: center;}#sk-container-id-4 label.sk-toggleable__label-arrow:before {content: \"▸\";float: left;margin-right: 0.25em;color: #696969;}#sk-container-id-4 label.sk-toggleable__label-arrow:hover:before {color: black;}#sk-container-id-4 div.sk-estimator:hover label.sk-toggleable__label-arrow:before {color: black;}#sk-container-id-4 div.sk-toggleable__content {max-height: 0;max-width: 0;overflow: hidden;text-align: left;background-color: #f0f8ff;}#sk-container-id-4 div.sk-toggleable__content pre {margin: 0.2em;color: black;border-radius: 0.25em;background-color: #f0f8ff;}#sk-container-id-4 input.sk-toggleable__control:checked~div.sk-toggleable__content {max-height: 200px;max-width: 100%;overflow: auto;}#sk-container-id-4 input.sk-toggleable__control:checked~label.sk-toggleable__label-arrow:before {content: \"▾\";}#sk-container-id-4 div.sk-estimator input.sk-toggleable__control:checked~label.sk-toggleable__label {background-color: #d4ebff;}#sk-container-id-4 div.sk-label input.sk-toggleable__control:checked~label.sk-toggleable__label {background-color: #d4ebff;}#sk-container-id-4 input.sk-hidden--visually {border: 0;clip: rect(1px 1px 1px 1px);clip: rect(1px, 1px, 1px, 1px);height: 1px;margin: -1px;overflow: hidden;padding: 0;position: absolute;width: 1px;}#sk-container-id-4 div.sk-estimator {font-family: monospace;background-color: #f0f8ff;border: 1px dotted black;border-radius: 0.25em;box-sizing: border-box;margin-bottom: 0.5em;}#sk-container-id-4 div.sk-estimator:hover {background-color: #d4ebff;}#sk-container-id-4 div.sk-parallel-item::after {content: \"\";width: 100%;border-bottom: 1px solid gray;flex-grow: 1;}#sk-container-id-4 div.sk-label:hover label.sk-toggleable__label {background-color: #d4ebff;}#sk-container-id-4 div.sk-serial::before {content: \"\";position: absolute;border-left: 1px solid gray;box-sizing: border-box;top: 0;bottom: 0;left: 50%;z-index: 0;}#sk-container-id-4 div.sk-serial {display: flex;flex-direction: column;align-items: center;background-color: white;padding-right: 0.2em;padding-left: 0.2em;position: relative;}#sk-container-id-4 div.sk-item {position: relative;z-index: 1;}#sk-container-id-4 div.sk-parallel {display: flex;align-items: stretch;justify-content: center;background-color: white;position: relative;}#sk-container-id-4 div.sk-item::before, #sk-container-id-4 div.sk-parallel-item::before {content: \"\";position: absolute;border-left: 1px solid gray;box-sizing: border-box;top: 0;bottom: 0;left: 50%;z-index: -1;}#sk-container-id-4 div.sk-parallel-item {display: flex;flex-direction: column;z-index: 1;position: relative;background-color: white;}#sk-container-id-4 div.sk-parallel-item:first-child::after {align-self: flex-end;width: 50%;}#sk-container-id-4 div.sk-parallel-item:last-child::after {align-self: flex-start;width: 50%;}#sk-container-id-4 div.sk-parallel-item:only-child::after {width: 0;}#sk-container-id-4 div.sk-dashed-wrapped {border: 1px dashed gray;margin: 0 0.4em 0.5em 0.4em;box-sizing: border-box;padding-bottom: 0.4em;background-color: white;}#sk-container-id-4 div.sk-label label {font-family: monospace;font-weight: bold;display: inline-block;line-height: 1.2em;}#sk-container-id-4 div.sk-label-container {text-align: center;}#sk-container-id-4 div.sk-container {/* jupyter's `normalize.less` sets `[hidden] { display: none; }` but bootstrap.min.css set `[hidden] { display: none !important; }` so we also need the `!important` here to be able to override the default hidden behavior on the sphinx rendered scikit-learn.org. See: https://github.com/scikit-learn/scikit-learn/issues/21755 */display: inline-block !important;position: relative;}#sk-container-id-4 div.sk-text-repr-fallback {display: none;}</style><div id=\"sk-container-id-4\" class=\"sk-top-container\"><div class=\"sk-text-repr-fallback\"><pre>KNeighborsClassifier()</pre><b>In a Jupyter environment, please rerun this cell to show the HTML representation or trust the notebook. <br />On GitHub, the HTML representation is unable to render, please try loading this page with nbviewer.org.</b></div><div class=\"sk-container\" hidden><div class=\"sk-item\"><div class=\"sk-estimator sk-toggleable\"><input class=\"sk-toggleable__control sk-hidden--visually\" id=\"sk-estimator-id-4\" type=\"checkbox\" checked><label for=\"sk-estimator-id-4\" class=\"sk-toggleable__label sk-toggleable__label-arrow\">KNeighborsClassifier</label><div class=\"sk-toggleable__content\"><pre>KNeighborsClassifier()</pre></div></div></div></div></div>"
            ]
          },
          "metadata": {},
          "execution_count": 97
        }
      ]
    },
    {
      "cell_type": "code",
      "source": [
        "# Make predictions on the test set\n",
        "knn_pred = knn_classifier.predict(X_test_scaled)"
      ],
      "metadata": {
        "id": "TXKDTdRllBTP"
      },
      "execution_count": 98,
      "outputs": []
    },
    {
      "cell_type": "code",
      "source": [
        "# Classification Report for K-Nearest Neighbors\n",
        "print(\"K-Nearest Neighbors Classification Report:\")\n",
        "print(classification_report(y_test, knn_pred))"
      ],
      "metadata": {
        "colab": {
          "base_uri": "https://localhost:8080/"
        },
        "id": "6SEQEHRglFXP",
        "outputId": "016dd5df-e35b-4de9-fc6d-6c3d0209cbad"
      },
      "execution_count": 99,
      "outputs": [
        {
          "output_type": "stream",
          "name": "stdout",
          "text": [
            "K-Nearest Neighbors Classification Report:\n",
            "              precision    recall  f1-score   support\n",
            "\n",
            "           0       0.50      0.62      0.56        24\n",
            "           1       0.60      0.54      0.57        28\n",
            "           2       0.00      0.00      0.00         8\n",
            "\n",
            "    accuracy                           0.50        60\n",
            "   macro avg       0.37      0.39      0.37        60\n",
            "weighted avg       0.48      0.50      0.49        60\n",
            "\n"
          ]
        }
      ]
    },
    {
      "cell_type": "code",
      "source": [
        "y.value_counts()"
      ],
      "metadata": {
        "colab": {
          "base_uri": "https://localhost:8080/"
        },
        "id": "w3fRmsE2q9Hp",
        "outputId": "2958371b-7f0a-4740-93eb-38102fa5630f"
      },
      "execution_count": 100,
      "outputs": [
        {
          "output_type": "execute_result",
          "data": {
            "text/plain": [
              "Personalized_Recommendation_Frequency\n",
              "0    250\n",
              "1    228\n",
              "2    122\n",
              "Name: count, dtype: int64"
            ]
          },
          "metadata": {},
          "execution_count": 100
        }
      ]
    },
    {
      "cell_type": "markdown",
      "source": [
        "#####Based on the shape of the y variable you provided, it seems that the classes are imbalanced, with class 0 having 250 instances, class 1 having 228 instances, and class 2 having 122 instances. To classify the majority class as a baseline model"
      ],
      "metadata": {
        "id": "NXczA-6Vs6aY"
      }
    },
    {
      "cell_type": "markdown",
      "source": [
        "#####**Smote**"
      ],
      "metadata": {
        "id": "5ptNZ__OtQpn"
      }
    },
    {
      "cell_type": "code",
      "source": [
        "# Initialize SMOTE\n",
        "sm = SMOTE()"
      ],
      "metadata": {
        "id": "t_jnO3LUngpT"
      },
      "execution_count": 101,
      "outputs": []
    },
    {
      "cell_type": "code",
      "source": [
        "# Apply SMOTE to resample the data\n",
        "X_resampled, y_resampled = sm.fit_resample(X, y.ravel())"
      ],
      "metadata": {
        "id": "jnQ1BpJAni9S"
      },
      "execution_count": 102,
      "outputs": []
    },
    {
      "cell_type": "code",
      "source": [
        "# Display class distribution before and after SMOTE\n",
        "print(\"Before OverSampling, counts of label '1': {}\".format(sum(y == 1)))\n",
        "print(\"Before OverSampling, counts of label '0': {}\".format(sum(y == 0)))\n",
        "print(\"After OverSampling, counts of label '1': {}\".format(sum(y_resampled == 1)))\n",
        "print(\"After OverSampling, counts of label '0': {}\".format(sum(y_resampled == 0)))"
      ],
      "metadata": {
        "colab": {
          "base_uri": "https://localhost:8080/"
        },
        "id": "QnB-hNwAnkFD",
        "outputId": "57d46c3b-a6e6-4d82-b1f0-1e39ce097ba4"
      },
      "execution_count": 103,
      "outputs": [
        {
          "output_type": "stream",
          "name": "stdout",
          "text": [
            "Before OverSampling, counts of label '1': 228\n",
            "Before OverSampling, counts of label '0': 250\n",
            "After OverSampling, counts of label '1': 250\n",
            "After OverSampling, counts of label '0': 250\n"
          ]
        }
      ]
    },
    {
      "cell_type": "code",
      "source": [
        "# Split the resampled data into training and testing sets\n",
        "X_train_resampled, X_test, y_train_resampled, y_test = train_test_split(X_resampled, y_resampled, random_state=42, test_size=0.3)"
      ],
      "metadata": {
        "id": "fGck_eEHno4C"
      },
      "execution_count": 104,
      "outputs": []
    },
    {
      "cell_type": "code",
      "source": [
        "# Define the parameter grid\n",
        "param_grid = {\n",
        "    'n_estimators': [50, 100, 150],\n",
        "    'max_depth': [None, 10, 20],\n",
        "    'min_samples_split': [2, 5, 10],\n",
        "    'min_samples_leaf': [1, 2, 4],\n",
        "    'bootstrap': [True, False]\n",
        "}"
      ],
      "metadata": {
        "id": "UvB41cJtoxvU"
      },
      "execution_count": 110,
      "outputs": []
    },
    {
      "cell_type": "code",
      "source": [
        "# Create the Random Forest classifier\n",
        "rf_classifier = RandomForestClassifier(random_state=42)"
      ],
      "metadata": {
        "id": "qkPinvzhozEC"
      },
      "execution_count": 111,
      "outputs": []
    },
    {
      "cell_type": "code",
      "source": [
        "# Instantiate GridSearchCV\n",
        "grid_search = GridSearchCV(estimator=rf_classifier, param_grid=param_grid, cv=3, scoring='accuracy', n_jobs=-1)"
      ],
      "metadata": {
        "id": "q0zGAxK2o0HT"
      },
      "execution_count": 112,
      "outputs": []
    },
    {
      "cell_type": "code",
      "source": [
        "# Fit the GridSearchCV to the training data\n",
        "grid_search.fit(X_train, y_train)"
      ],
      "metadata": {
        "colab": {
          "base_uri": "https://localhost:8080/",
          "height": 118
        },
        "id": "M8e2RR45o1bC",
        "outputId": "0d13d270-a423-47b7-e14f-9feed72361c2"
      },
      "execution_count": 113,
      "outputs": [
        {
          "output_type": "execute_result",
          "data": {
            "text/plain": [
              "GridSearchCV(cv=3, estimator=RandomForestClassifier(random_state=42), n_jobs=-1,\n",
              "             param_grid={'bootstrap': [True, False],\n",
              "                         'max_depth': [None, 10, 20],\n",
              "                         'min_samples_leaf': [1, 2, 4],\n",
              "                         'min_samples_split': [2, 5, 10],\n",
              "                         'n_estimators': [50, 100, 150]},\n",
              "             scoring='accuracy')"
            ],
            "text/html": [
              "<style>#sk-container-id-6 {color: black;background-color: white;}#sk-container-id-6 pre{padding: 0;}#sk-container-id-6 div.sk-toggleable {background-color: white;}#sk-container-id-6 label.sk-toggleable__label {cursor: pointer;display: block;width: 100%;margin-bottom: 0;padding: 0.3em;box-sizing: border-box;text-align: center;}#sk-container-id-6 label.sk-toggleable__label-arrow:before {content: \"▸\";float: left;margin-right: 0.25em;color: #696969;}#sk-container-id-6 label.sk-toggleable__label-arrow:hover:before {color: black;}#sk-container-id-6 div.sk-estimator:hover label.sk-toggleable__label-arrow:before {color: black;}#sk-container-id-6 div.sk-toggleable__content {max-height: 0;max-width: 0;overflow: hidden;text-align: left;background-color: #f0f8ff;}#sk-container-id-6 div.sk-toggleable__content pre {margin: 0.2em;color: black;border-radius: 0.25em;background-color: #f0f8ff;}#sk-container-id-6 input.sk-toggleable__control:checked~div.sk-toggleable__content {max-height: 200px;max-width: 100%;overflow: auto;}#sk-container-id-6 input.sk-toggleable__control:checked~label.sk-toggleable__label-arrow:before {content: \"▾\";}#sk-container-id-6 div.sk-estimator input.sk-toggleable__control:checked~label.sk-toggleable__label {background-color: #d4ebff;}#sk-container-id-6 div.sk-label input.sk-toggleable__control:checked~label.sk-toggleable__label {background-color: #d4ebff;}#sk-container-id-6 input.sk-hidden--visually {border: 0;clip: rect(1px 1px 1px 1px);clip: rect(1px, 1px, 1px, 1px);height: 1px;margin: -1px;overflow: hidden;padding: 0;position: absolute;width: 1px;}#sk-container-id-6 div.sk-estimator {font-family: monospace;background-color: #f0f8ff;border: 1px dotted black;border-radius: 0.25em;box-sizing: border-box;margin-bottom: 0.5em;}#sk-container-id-6 div.sk-estimator:hover {background-color: #d4ebff;}#sk-container-id-6 div.sk-parallel-item::after {content: \"\";width: 100%;border-bottom: 1px solid gray;flex-grow: 1;}#sk-container-id-6 div.sk-label:hover label.sk-toggleable__label {background-color: #d4ebff;}#sk-container-id-6 div.sk-serial::before {content: \"\";position: absolute;border-left: 1px solid gray;box-sizing: border-box;top: 0;bottom: 0;left: 50%;z-index: 0;}#sk-container-id-6 div.sk-serial {display: flex;flex-direction: column;align-items: center;background-color: white;padding-right: 0.2em;padding-left: 0.2em;position: relative;}#sk-container-id-6 div.sk-item {position: relative;z-index: 1;}#sk-container-id-6 div.sk-parallel {display: flex;align-items: stretch;justify-content: center;background-color: white;position: relative;}#sk-container-id-6 div.sk-item::before, #sk-container-id-6 div.sk-parallel-item::before {content: \"\";position: absolute;border-left: 1px solid gray;box-sizing: border-box;top: 0;bottom: 0;left: 50%;z-index: -1;}#sk-container-id-6 div.sk-parallel-item {display: flex;flex-direction: column;z-index: 1;position: relative;background-color: white;}#sk-container-id-6 div.sk-parallel-item:first-child::after {align-self: flex-end;width: 50%;}#sk-container-id-6 div.sk-parallel-item:last-child::after {align-self: flex-start;width: 50%;}#sk-container-id-6 div.sk-parallel-item:only-child::after {width: 0;}#sk-container-id-6 div.sk-dashed-wrapped {border: 1px dashed gray;margin: 0 0.4em 0.5em 0.4em;box-sizing: border-box;padding-bottom: 0.4em;background-color: white;}#sk-container-id-6 div.sk-label label {font-family: monospace;font-weight: bold;display: inline-block;line-height: 1.2em;}#sk-container-id-6 div.sk-label-container {text-align: center;}#sk-container-id-6 div.sk-container {/* jupyter's `normalize.less` sets `[hidden] { display: none; }` but bootstrap.min.css set `[hidden] { display: none !important; }` so we also need the `!important` here to be able to override the default hidden behavior on the sphinx rendered scikit-learn.org. See: https://github.com/scikit-learn/scikit-learn/issues/21755 */display: inline-block !important;position: relative;}#sk-container-id-6 div.sk-text-repr-fallback {display: none;}</style><div id=\"sk-container-id-6\" class=\"sk-top-container\"><div class=\"sk-text-repr-fallback\"><pre>GridSearchCV(cv=3, estimator=RandomForestClassifier(random_state=42), n_jobs=-1,\n",
              "             param_grid={&#x27;bootstrap&#x27;: [True, False],\n",
              "                         &#x27;max_depth&#x27;: [None, 10, 20],\n",
              "                         &#x27;min_samples_leaf&#x27;: [1, 2, 4],\n",
              "                         &#x27;min_samples_split&#x27;: [2, 5, 10],\n",
              "                         &#x27;n_estimators&#x27;: [50, 100, 150]},\n",
              "             scoring=&#x27;accuracy&#x27;)</pre><b>In a Jupyter environment, please rerun this cell to show the HTML representation or trust the notebook. <br />On GitHub, the HTML representation is unable to render, please try loading this page with nbviewer.org.</b></div><div class=\"sk-container\" hidden><div class=\"sk-item sk-dashed-wrapped\"><div class=\"sk-label-container\"><div class=\"sk-label sk-toggleable\"><input class=\"sk-toggleable__control sk-hidden--visually\" id=\"sk-estimator-id-6\" type=\"checkbox\" ><label for=\"sk-estimator-id-6\" class=\"sk-toggleable__label sk-toggleable__label-arrow\">GridSearchCV</label><div class=\"sk-toggleable__content\"><pre>GridSearchCV(cv=3, estimator=RandomForestClassifier(random_state=42), n_jobs=-1,\n",
              "             param_grid={&#x27;bootstrap&#x27;: [True, False],\n",
              "                         &#x27;max_depth&#x27;: [None, 10, 20],\n",
              "                         &#x27;min_samples_leaf&#x27;: [1, 2, 4],\n",
              "                         &#x27;min_samples_split&#x27;: [2, 5, 10],\n",
              "                         &#x27;n_estimators&#x27;: [50, 100, 150]},\n",
              "             scoring=&#x27;accuracy&#x27;)</pre></div></div></div><div class=\"sk-parallel\"><div class=\"sk-parallel-item\"><div class=\"sk-item\"><div class=\"sk-label-container\"><div class=\"sk-label sk-toggleable\"><input class=\"sk-toggleable__control sk-hidden--visually\" id=\"sk-estimator-id-7\" type=\"checkbox\" ><label for=\"sk-estimator-id-7\" class=\"sk-toggleable__label sk-toggleable__label-arrow\">estimator: RandomForestClassifier</label><div class=\"sk-toggleable__content\"><pre>RandomForestClassifier(random_state=42)</pre></div></div></div><div class=\"sk-serial\"><div class=\"sk-item\"><div class=\"sk-estimator sk-toggleable\"><input class=\"sk-toggleable__control sk-hidden--visually\" id=\"sk-estimator-id-8\" type=\"checkbox\" ><label for=\"sk-estimator-id-8\" class=\"sk-toggleable__label sk-toggleable__label-arrow\">RandomForestClassifier</label><div class=\"sk-toggleable__content\"><pre>RandomForestClassifier(random_state=42)</pre></div></div></div></div></div></div></div></div></div></div>"
            ]
          },
          "metadata": {},
          "execution_count": 113
        }
      ]
    },
    {
      "cell_type": "code",
      "source": [
        "# Print the best parameters found by GridSearchCV\n",
        "print(\"Best parameters found by GridSearchCV:\")\n",
        "print(grid_search.best_params_)"
      ],
      "metadata": {
        "colab": {
          "base_uri": "https://localhost:8080/"
        },
        "id": "FNxlJG1Fo2aj",
        "outputId": "717b5cb9-6183-4a1f-e2cc-9bf7de4b6bd7"
      },
      "execution_count": 114,
      "outputs": [
        {
          "output_type": "stream",
          "name": "stdout",
          "text": [
            "Best parameters found by GridSearchCV:\n",
            "{'bootstrap': True, 'max_depth': None, 'min_samples_leaf': 2, 'min_samples_split': 2, 'n_estimators': 150}\n"
          ]
        }
      ]
    },
    {
      "cell_type": "code",
      "source": [
        "# Make predictions on the test set using the best model\n",
        "rf_pred = grid_search.best_estimator_.predict(X_test)"
      ],
      "metadata": {
        "id": "2C0eY-Kso3vl"
      },
      "execution_count": 115,
      "outputs": []
    },
    {
      "cell_type": "code",
      "source": [
        "# Generate and print the classification report\n",
        "print(\"Random Forest Classification Report after hyperparameter tuning:\")\n",
        "print(classification_report(y_test, rf_pred))"
      ],
      "metadata": {
        "colab": {
          "base_uri": "https://localhost:8080/"
        },
        "id": "cuPpiqt0o5Zo",
        "outputId": "dd13b7fc-f614-4667-e0b6-29b724b47604"
      },
      "execution_count": 116,
      "outputs": [
        {
          "output_type": "stream",
          "name": "stdout",
          "text": [
            "Random Forest Classification Report after hyperparameter tuning:\n",
            "              precision    recall  f1-score   support\n",
            "\n",
            "           0       0.73      0.93      0.82        69\n",
            "           1       0.77      0.86      0.81        77\n",
            "           2       0.94      0.61      0.74        79\n",
            "\n",
            "    accuracy                           0.79       225\n",
            "   macro avg       0.81      0.80      0.79       225\n",
            "weighted avg       0.82      0.79      0.79       225\n",
            "\n"
          ]
        }
      ]
    },
    {
      "cell_type": "markdown",
      "source": [
        "The Random Forest classification report after hyperparameter tuning shows significant improvements in precision, recall, and F1-score for all classes compared to the results obtained from the normal Random Forest classifier.\n",
        "\n",
        "*   Generalization: The improved performance of the hyperparameter-tuned model suggests that it may generalize better to unseen data compared to the normal Random Forest classifier. This indicates that the model has learned more meaningful patterns from the data and is better at capturing the underlying relationships between features and target classes."
      ],
      "metadata": {
        "id": "9AipLtfGusSw"
      }
    },
    {
      "cell_type": "markdown",
      "source": [
        "**Summary:**\n",
        "\n",
        "The Amazon Consumer Behaviour Dataset provided valuable insights into the purchasing behavior and preferences of Amazon customers. The dataset contained various demographic and behavioral attributes such as age, gender, purchase frequency, product categories, personalized recommendation frequency, and more. Our objective was to analyze this dataset to understand customer behavior better and identify areas for improvement in Amazon's services.\n",
        "\n",
        "We began by performing one-hot encoding to preprocess categorical variables and prepare the data for modeling. Subsequently, we applied logistic regression, random forest, SVM classifier, and KNeighbors classifier to predict customer behavior. However, the initial results showed poor performance due to the unbalanced nature of the dataset.\n",
        "\n",
        "To address this imbalance and improve model performance, we applied the Synthetic Minority Over-sampling Technique (SMOTE) to oversample the minority classes. We then performed hyperparameter tuning on the Random Forest classifier, which resulted in significant improvements in precision, recall, and F1-score for all classes.\n",
        "\n",
        "**Conclusions:**\n",
        "\n",
        "1. **Data Understanding**: The analysis of the Amazon Consumer Behaviour Dataset provided valuable insights into various aspects of customer behavior on the platform.\n",
        "\n",
        "2. **Model Performance**: The initial models showed poor performance due to the unbalanced dataset. However, by applying SMOTE to address the class imbalance and performing hyperparameter tuning on the Random Forest classifier, we achieved significant improvements in model performance.\n",
        "\n",
        "3. **Recommendations**: Based on the improved model performance, we recommend that Amazon leverage these insights to enhance its services, personalize recommendations, and improve the overall shopping experience for its customers. Areas such as personalized recommendations, customer reviews, and browsing experience could be prioritized for further enhancement.\n",
        "\n",
        "4. **Future Work**: Future work could involve exploring additional modeling techniques, such as ensemble methods or deep learning algorithms, to further improve predictive performance. Additionally, collecting more granular data and conducting deeper analyses could provide additional insights into customer behavior and preferences."
      ],
      "metadata": {
        "id": "-YXApGv9wtEs"
      }
    }
  ]
}